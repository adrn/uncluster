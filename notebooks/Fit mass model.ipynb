{
 "cells": [
  {
   "cell_type": "code",
   "execution_count": null,
   "metadata": {
    "collapsed": false
   },
   "outputs": [],
   "source": [
    "from __future__ import division, print_function\n",
    "\n",
    "# Third-party\n",
    "from astropy.constants import G\n",
    "import astropy.units as u\n",
    "import matplotlib.pyplot as plt\n",
    "import numpy as np\n",
    "plt.style.use('apw-notebook')\n",
    "%matplotlib inline\n",
    "from scipy.optimize import leastsq\n",
    "\n",
    "# Custom\n",
    "import gala.dynamics as gd\n",
    "import gala.potential as gp\n",
    "from gala.units import galactic"
   ]
  },
  {
   "cell_type": "code",
   "execution_count": null,
   "metadata": {
    "collapsed": true
   },
   "outputs": [],
   "source": [
    "linestyle = dict(marker='', color=\"#444444\", linewidth=2, alpha=0.7)\n",
    "datastyle = dict(marker='o', markersize=4, color='#3182bd', alpha=1., \n",
    "                 ecolor='#9ecae1',  capthick=0, linestyle='none', elinewidth=1.)"
   ]
  },
  {
   "cell_type": "markdown",
   "metadata": {},
   "source": [
    "### Pull in mass measurements compiled from Oleg and Andreas:"
   ]
  },
  {
   "cell_type": "code",
   "execution_count": null,
   "metadata": {
    "collapsed": true
   },
   "outputs": [],
   "source": [
    "gnedin_tbl = np.genfromtxt(\"../data/gnedin_tbl.txt\", delimiter=',', names=True, dtype=None)"
   ]
  },
  {
   "cell_type": "code",
   "execution_count": null,
   "metadata": {
    "collapsed": false
   },
   "outputs": [],
   "source": [
    "g_Menc = gnedin_tbl['Menc']\n",
    "g_Menc_l = gnedin_tbl['neg_err']\n",
    "g_Menc_u = gnedin_tbl['pos_err']"
   ]
  },
  {
   "cell_type": "markdown",
   "metadata": {},
   "source": [
    "Andreas has circular velocity, so convert to mass"
   ]
  },
  {
   "cell_type": "code",
   "execution_count": null,
   "metadata": {
    "collapsed": true
   },
   "outputs": [],
   "source": [
    "kuepper_tbl = np.genfromtxt(\"../data/kuepper15_tbl.txt\", delimiter=',', names=True, dtype=None)"
   ]
  },
  {
   "cell_type": "code",
   "execution_count": null,
   "metadata": {
    "collapsed": true
   },
   "outputs": [],
   "source": [
    "k_Menc = (kuepper_tbl['radius']*u.kpc * (kuepper_tbl['v_c']*u.km/u.s)**2 / G).to(u.Msun).value\n",
    "k_Menc_l = k_Menc - (kuepper_tbl['radius']*u.kpc * ((kuepper_tbl['v_c']-kuepper_tbl['neg_err'])*u.km/u.s)**2 / G).to(u.Msun).value\n",
    "k_Menc_u = (kuepper_tbl['radius']*u.kpc * ((kuepper_tbl['v_c']+kuepper_tbl['pos_err'])*u.km/u.s)**2 / G).to(u.Msun).value - k_Menc"
   ]
  },
  {
   "cell_type": "code",
   "execution_count": null,
   "metadata": {
    "collapsed": true
   },
   "outputs": [],
   "source": [
    "r = np.concatenate((gnedin_tbl['radius'], kuepper_tbl['radius']))\n",
    "Menc = np.concatenate((g_Menc, k_Menc))\n",
    "Menc_l = np.concatenate((g_Menc_l, k_Menc_l))\n",
    "Menc_u = np.concatenate((g_Menc_u, k_Menc_u))\n",
    "\n",
    "idx = Menc.argsort()\n",
    "obs_Menc = Menc[idx]\n",
    "obs_Menc_l = Menc_l[idx]\n",
    "obs_Menc_u = Menc_u[idx]\n",
    "obs_r = r[idx]"
   ]
  },
  {
   "cell_type": "markdown",
   "metadata": {},
   "source": [
    "### First my by-eye fit of a potential model to these data:"
   ]
  },
  {
   "cell_type": "code",
   "execution_count": null,
   "metadata": {
    "collapsed": false
   },
   "outputs": [],
   "source": [
    "# Background Milky Way potential\n",
    "mw_potential = gp.CCompositePotential()\n",
    "M_nucl = 2E9\n",
    "rs_nucl = 0.1\n",
    "mw_potential['nucl'] =  gp.HernquistPotential(m=M_nucl, c=rs_nucl, units=galactic)\n",
    "mw_potential['bulge'] = gp.HernquistPotential(m=5E9, c=1., units=galactic)\n",
    "mw_potential['disk'] = gp.MiyamotoNagaiPotential(m=6.8E10*u.Msun, a=3*u.kpc, b=280*u.pc, \n",
    "                                                 units=galactic)\n",
    "\n",
    "# for DM halo potential\n",
    "M_h = 6E11 * u.Msun\n",
    "rs_h = 16. * u.kpc\n",
    "v_c = np.sqrt(((np.log(2.) - 0.5) * (G * M_h / rs_h)).decompose(galactic).value)\n",
    "mw_potential['halo'] = gp.SphericalNFWPotential(v_c=v_c, r_s=rs_h, units=galactic)"
   ]
  },
  {
   "cell_type": "code",
   "execution_count": null,
   "metadata": {
    "collapsed": false
   },
   "outputs": [],
   "source": [
    "r = np.logspace(-3.5, 2.6, 1024)\n",
    "xyz = np.zeros((3,r.size))\n",
    "xyz[0] = r\n",
    "menc = mw_potential.mass_enclosed(xyz*u.kpc)\n",
    "\n",
    "plt.errorbar(obs_r, obs_Menc, yerr=[obs_Menc_l,obs_Menc_u], **datastyle)\n",
    "\n",
    "plt.loglog(r, menc.value, **linestyle)\n",
    "plt.xlim(10**-3.5, 10**2.6)\n",
    "plt.ylim(10**6.5, 10**12.25)\n",
    "\n",
    "plt.xlabel('$r$ [kpc]')\n",
    "plt.ylabel('$M(<r)$ [M$_\\odot$]')"
   ]
  },
  {
   "cell_type": "code",
   "execution_count": null,
   "metadata": {
    "collapsed": true
   },
   "outputs": [],
   "source": [
    "mw_potential = gp.CCompositePotential()\n",
    "mw_potential['bulge'] = gp.HernquistPotential(m=5E9, c=1., units=galactic)\n",
    "mw_potential['disk'] = gp.MiyamotoNagaiPotential(m=6.8E10*u.Msun, a=3*u.kpc, b=280*u.pc, \n",
    "                                                 units=galactic)\n",
    "    \n",
    "def get_mw_potential(log_M_halo, r_s, log_M_nucl, a):\n",
    "    # Background Milky Way potential\n",
    "    mw_potential['nucl'] =  gp.HernquistPotential(m=np.exp(log_M_nucl), c=a, units=galactic)\n",
    "    v_c = np.sqrt(((np.log(2.) - 0.5) * (G * np.exp(log_M_halo)*u.Msun / (r_s*u.kpc))).decompose(galactic).value)\n",
    "    mw_potential['halo'] = gp.SphericalNFWPotential(v_c=v_c, r_s=r_s, units=galactic)\n",
    "    return mw_potential"
   ]
  },
  {
   "cell_type": "code",
   "execution_count": null,
   "metadata": {
    "collapsed": false
   },
   "outputs": [],
   "source": [
    "x0"
   ]
  },
  {
   "cell_type": "code",
   "execution_count": null,
   "metadata": {
    "collapsed": false
   },
   "outputs": [],
   "source": [
    "xyz"
   ]
  },
  {
   "cell_type": "code",
   "execution_count": null,
   "metadata": {
    "collapsed": false
   },
   "outputs": [],
   "source": [
    "fit_robs = obs_r[2:]\n",
    "fit_Mobs = obs_Menc[2:]\n",
    "log_Mobs = np.log(fit_Mobs)\n",
    "x0 = (np.log(M_h.to(u.Msun).value), rs_h.to(u.kpc).value, np.log(M_nucl), rs_nucl)\n",
    "\n",
    "xyz = np.zeros((3,fit_robs.size))\n",
    "\n",
    "def f(p):\n",
    "    pot = get_mw_potential(*p)\n",
    "    \n",
    "    xyz[0] = fit_robs\n",
    "    log_menc = np.log(mw_potential.mass_enclosed(xyz).to(u.Msun).value)\n",
    "    return (log_menc - log_Mobs) / 0.7\n",
    "\n",
    "p_opt, ier = leastsq(f, x0=x0)\n",
    "assert ier in range(1,4+1)"
   ]
  },
  {
   "cell_type": "code",
   "execution_count": null,
   "metadata": {
    "collapsed": false
   },
   "outputs": [],
   "source": [
    "p_opt"
   ]
  },
  {
   "cell_type": "code",
   "execution_count": null,
   "metadata": {
    "collapsed": false
   },
   "outputs": [],
   "source": [
    "fit_potential = get_mw_potential(*p_opt)"
   ]
  },
  {
   "cell_type": "code",
   "execution_count": null,
   "metadata": {
    "collapsed": false
   },
   "outputs": [],
   "source": [
    "r = np.logspace(-3.5, 2.6, 1024)\n",
    "xyz = np.zeros((3,r.size))\n",
    "xyz[0] = r\n",
    "menc = fit_potential.mass_enclosed(xyz*u.kpc)\n",
    "\n",
    "# observational points\n",
    "fig,ax = plt.subplots(1,1,figsize=(6,6))\n",
    "\n",
    "plt.errorbar(obs_r, obs_Menc, yerr=[obs_Menc_l,obs_Menc_u], **datastyle)\n",
    "ax.loglog(r, menc.value, **linestyle)\n",
    "\n",
    "ax.set_xlim(5E-3, 10**2.6)\n",
    "ax.set_ylim(7E6, 10**12.25)\n",
    "\n",
    "ax.set_xlabel('$r$ [kpc]')\n",
    "ax.set_ylabel('$M(<r)$ [M$_\\odot$]')\n",
    "\n",
    "fig.tight_layout()\n",
    "\n",
    "fig.savefig(\"../paper/figures/mass-profile.pdf\")"
   ]
  },
  {
   "cell_type": "code",
   "execution_count": null,
   "metadata": {
    "collapsed": false
   },
   "outputs": [],
   "source": [
    "print(\"Halo mass: {:.2e} solMass, Scale radius: {:.2f} kpc\".format(np.exp(p_opt[0]), p_opt[1]))"
   ]
  },
  {
   "cell_type": "code",
   "execution_count": null,
   "metadata": {
    "collapsed": false
   },
   "outputs": [],
   "source": [
    "print(\"Nuclear mass: {:.2e} solMass, Scale radius: {:.2f} pc\".format(np.exp(p_opt[2]), 1000*p_opt[3]))"
   ]
  },
  {
   "cell_type": "markdown",
   "metadata": {},
   "source": [
    "$$\n",
    "M_H = 5.73 \\times 10^{11}~Msun \\\\\n",
    "r_H = 15.6~{\\rm kpc} \\\\\n",
    "M_N = 1.98 \\times 10^{9}~Msun \\\\\n",
    "r_N = 79~{\\rm pc} \n",
    "$$"
   ]
  },
  {
   "cell_type": "markdown",
   "metadata": {},
   "source": [
    "### Sanity check against circular velocity"
   ]
  },
  {
   "cell_type": "code",
   "execution_count": null,
   "metadata": {
    "collapsed": false
   },
   "outputs": [],
   "source": [
    "r = np.linspace(0.1, 250, 1024)\n",
    "xyz = np.zeros((3,r.size))\n",
    "xyz[0] = r\n",
    "vcirc = fit_potential.circular_velocity(xyz*u.kpc)\n",
    "\n",
    "plt.figure(figsize=(8,6))\n",
    "\n",
    "plt.errorbar(kuepper_tbl['radius'], kuepper_tbl['v_c'], \n",
    "             yerr=(kuepper_tbl['neg_err'],kuepper_tbl['pos_err']),\n",
    "             linestyle='none', marker='o', color='k', ecolor='#aaaaaa')\n",
    "\n",
    "plt.plot(r, vcirc.to(u.km/u.s).value, marker='', \n",
    "         color=linecolor, linewidth=2., alpha=0.75)\n",
    "\n",
    "\n",
    "plt.xlim(0, 225)\n",
    "plt.ylim(45, 305)"
   ]
  }
 ],
 "metadata": {
  "anaconda-cloud": {},
  "kernelspec": {
   "display_name": "Python [conda env:uncluster]",
   "language": "python",
   "name": "conda-env-uncluster-py"
  },
  "language_info": {
   "codemirror_mode": {
    "name": "ipython",
    "version": 3
   },
   "file_extension": ".py",
   "mimetype": "text/x-python",
   "name": "python",
   "nbconvert_exporter": "python",
   "pygments_lexer": "ipython3",
   "version": "3.5.2"
  }
 },
 "nbformat": 4,
 "nbformat_minor": 1
}