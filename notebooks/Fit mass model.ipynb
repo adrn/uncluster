{
 "cells": [
  {
   "cell_type": "code",
   "execution_count": null,
   "metadata": {
    "collapsed": false
   },
   "outputs": [],
   "source": [
    "from __future__ import division, print_function\n",
    "\n",
    "# Third-party\n",
    "from astropy.constants import G\n",
    "import astropy.units as u\n",
    "import matplotlib.pyplot as plt\n",
    "import numpy as np\n",
    "plt.style.use('apw-notebook')\n",
    "%matplotlib inline\n",
    "from scipy.optimize import leastsq\n",
    "\n",
    "# Custom\n",
    "import gala.dynamics as gd\n",
    "import gala.potential as gp\n",
    "from gala.units import galactic"
   ]
  },
  {
   "cell_type": "markdown",
   "metadata": {},
   "source": [
    "### Observational constraints (taken from Oleg)\n",
    "\n",
    "[Piffl et al. 2014](http://adsabs.harvard.edu/abs/2014A%26A...562A..91P) Mvir = (1.2-1.3)e12 Msun\n",
    "\n",
    "[Deason et al. 2012](http://adsabs.harvard.edu/abs/2012MNRAS.425.2840D) [at 150 kpc] M = (5-10)e11 Msun\n",
    "\n",
    "[Gnedin et al. 2010](http://adsabs.harvard.edu/abs/2010ApJ...720L.108G) [at 80 kpc] M = (6.9 +3.0-1.2)e11 Msun\n",
    "\n",
    "[Deason et al. 2012](http://adsabs.harvard.edu/abs/2012MNRAS.424L..44D) [at 50 kpc] M = (4.2 \u00b1 0.4)e11 Msun\n",
    "\n",
    "[McMillan 2016](http://arxiv.org/abs/1608.00971) M_disk,stellar = 5.4e10, Mvir = 1.3e12 Msun\n",
    "\n",
    "[Bovy & Rix 2013](http://adsabs.harvard.edu/abs/2013ApJ...779..115B) [at 4-9 kpc] M_disk = 5.3e10, M_disk,stellar = 4.6e10\n",
    "\n",
    "[Nakanishi & Sofue](http://adsabs.harvard.edu/abs/2016PASJ...68....5N) M_gas = 8e9 Msun\n",
    "\n",
    "[Bland-Hawthorn & Gerhard 2016](http://arxiv.org/abs/1602.07702) M_NSD = (1.4 \u00b1 0.6)e9 Msun, r_h,NSD = 90 pc,\n",
    "M_bulge = (1.4-1.7)e10 Msun, M_thin = (4 \u00b1 1)e10, r_thin = 2.6 \u00b1 0.5 kpc, M_thick = (8 \u00b1 3)e9 Msun, r_thick = 2 \u00b1 0.2 kpc, R_0 = 8.2 \u00b1 0.1 kpc, V_0 = 238 \u00b1 15 km/s, V_0/R_0 = 29.0 \u00b1 1.8 km/s/kpc, M(8.2kpc) = 1.08e11 Msun\n",
    "\n",
    "[Launhardt et all. 2002](http://adsabs.harvard.edu/abs/2002A%26A...384..112L) [at 120 pc] NSD mass = (8 \u00b1 2)e8 Msun, scale radius = 90 pc\n",
    "\n",
    "[Feldmeier et al. 2014](http://adsabs.harvard.edu/abs/2014A%26A...570A...2F) [at 10 pc] total mass = (3 \u00b1 1)e7 Msun\n",
    "\n",
    "[Chatzopoulos et al. 2015](http://adsabs.harvard.edu/abs/2015MNRAS.447..948C) [at 1 and 4 pc] R_0 = 8.33 \u00b1 0.11 kpc, M_BH = (4.23 \u00b1 0.14)e6 Msun, M_NSC = (1.8 \u00b1 0.3)e7 Msun, r_h,NSC = 4.2 \u00b1 0.4 pc, M_NSC(1pc) = 0.89e6 Msun"
   ]
  },
  {
   "cell_type": "code",
   "execution_count": null,
   "metadata": {
    "collapsed": false
   },
   "outputs": [],
   "source": [
    "robs =   np.array([ 0.001, 0.004, 0.010001,  0.12, 8.2,     50.,    80.,    150.  ])\n",
    "Mobs =   np.array([ 5.1e6, 1.3e7, 2.6e7, 8.e8, 1.08e11, 4.2e11, 6.9e11, 9.0e11 ])\n",
    "Mobs_l = np.array([ 4.6e6, 1.1e7, 1.6e7, 6.e8, 9.37e10, 3.8e11, 5.0e11, 5.0e11 ])\n",
    "Mobs_u = np.array([ 5.6e6, 1.5e7, 3.6e7, 1.e9, 1.24e11, 4.6e11, 9.9e11, 1.1e12 ])"
   ]
  },
  {
   "cell_type": "markdown",
   "metadata": {},
   "source": [
    "First my by-eye fit:"
   ]
  },
  {
   "cell_type": "code",
   "execution_count": null,
   "metadata": {
    "collapsed": false
   },
   "outputs": [],
   "source": [
    "# Background Milky Way potential\n",
    "mw_potential = gp.CCompositePotential()\n",
    "mw_potential['nucl'] =  gp.HernquistPotential(m=2E9, c=0.1, units=galactic)\n",
    "mw_potential['bulge'] = gp.HernquistPotential(m=5E9, c=1., units=galactic)\n",
    "mw_potential['disk'] = gp.MiyamotoNagaiPotential(m=6.8E10*u.Msun, a=3*u.kpc, b=280*u.pc, \n",
    "                                                 units=galactic)\n",
    "\n",
    "# for DM halo potential\n",
    "M_h = 6E11 * u.Msun\n",
    "rs_h = 16. * u.kpc\n",
    "v_c = np.sqrt(((np.log(2.) - 0.5) * (G * M_h / rs_h)).decompose(galactic).value)\n",
    "mw_potential['halo'] = gp.SphericalNFWPotential(v_c=v_c, r_s=rs_h, units=galactic)"
   ]
  },
  {
   "cell_type": "code",
   "execution_count": null,
   "metadata": {
    "collapsed": false
   },
   "outputs": [],
   "source": [
    "r = np.logspace(-3.5, 2.6, 1024)\n",
    "xyz = np.zeros((3,r.size))\n",
    "xyz[0] = r\n",
    "menc = mw_potential.mass_enclosed(xyz*u.kpc)\n",
    "\n",
    "# observational points\n",
    "plt.scatter(robs, Mobs, s=20, marker='s', color='k')\n",
    "yerr1 = Mobs - Mobs_l\n",
    "yerr2 = Mobs_u - Mobs\n",
    "plt.errorbar(robs, Mobs, yerr=[yerr1,yerr2], ecolor='k', capthick=0, linestyle='None')\n",
    "\n",
    "plt.loglog(r, menc.value, marker='')\n",
    "plt.xlim(10**-3.5, 10**2.6)\n",
    "plt.ylim(10**6.5, 10**12.25)\n",
    "\n",
    "plt.xlabel('$r$ [kpc]')\n",
    "plt.ylabel('$M(<r)$ [M$_\\odot$]')"
   ]
  },
  {
   "cell_type": "code",
   "execution_count": null,
   "metadata": {
    "collapsed": true
   },
   "outputs": [],
   "source": [
    "mw_potential = gp.CCompositePotential()\n",
    "mw_potential['bulge'] = gp.HernquistPotential(m=5E9, c=1., units=galactic)\n",
    "mw_potential['disk'] = gp.MiyamotoNagaiPotential(m=6.8E10*u.Msun, a=3*u.kpc, b=280*u.pc, \n",
    "                                                 units=galactic)\n",
    "    \n",
    "def get_mw_potential(log_M_halo, r_s, log_M_nucl, a):\n",
    "    # Background Milky Way potential\n",
    "    mw_potential['nucl'] =  gp.HernquistPotential(m=np.exp(log_M_nucl), c=a, units=galactic)\n",
    "    v_c = np.sqrt(((np.log(2.) - 0.5) * (G * np.exp(log_M_halo)*u.Msun / (r_s*u.kpc))).decompose(galactic).value)\n",
    "    mw_potential['halo'] = gp.SphericalNFWPotential(v_c=v_c, r_s=r_s, units=galactic)\n",
    "    return mw_potential"
   ]
  },
  {
   "cell_type": "code",
   "execution_count": null,
   "metadata": {
    "collapsed": false
   },
   "outputs": [],
   "source": [
    "fit_robs = robs[2:]\n",
    "fit_Mobs = Mobs[2:]\n",
    "log_Mobs = np.log(fit_Mobs)\n",
    "x0 = (np.log(6E11), 16., np.log(2E9), 0.1)\n",
    "\n",
    "xyz = np.zeros((3,fit_robs.size))\n",
    "\n",
    "def f(p):\n",
    "    pot = get_mw_potential(*p)\n",
    "    \n",
    "    xyz[0] = fit_robs\n",
    "    log_menc = np.log(mw_potential.mass_enclosed(xyz).to(u.Msun).value)\n",
    "    return (log_menc - log_Mobs) / 0.7\n",
    "\n",
    "p_opt, ier = leastsq(f, x0=x0)\n",
    "assert ier in range(1,4+1)"
   ]
  },
  {
   "cell_type": "code",
   "execution_count": null,
   "metadata": {
    "collapsed": false
   },
   "outputs": [],
   "source": [
    "p_opt"
   ]
  },
  {
   "cell_type": "code",
   "execution_count": null,
   "metadata": {
    "collapsed": false
   },
   "outputs": [],
   "source": [
    "fit_potential = get_mw_potential(*p_opt)"
   ]
  },
  {
   "cell_type": "code",
   "execution_count": null,
   "metadata": {
    "collapsed": false
   },
   "outputs": [],
   "source": [
    "r = np.logspace(-3.5, 2.6, 1024)\n",
    "xyz = np.zeros((3,r.size))\n",
    "xyz[0] = r\n",
    "menc = fit_potential.mass_enclosed(xyz*u.kpc)\n",
    "\n",
    "# observational points\n",
    "fig,ax = plt.subplots(1,1,figsize=(6,6))\n",
    "\n",
    "ax.scatter(robs, Mobs, s=20, marker='o', color='k')\n",
    "yerr1 = Mobs - Mobs_l\n",
    "yerr2 = Mobs_u - Mobs\n",
    "ax.errorbar(robs, Mobs, yerr=[yerr1,yerr2], ecolor='k', capthick=0, linestyle='None')\n",
    "\n",
    "ax.loglog(r, menc.value, marker='')\n",
    "ax.set_xlim(10**-3.5, 10**2.6)\n",
    "ax.set_ylim(10**6.5, 10**12.25)\n",
    "\n",
    "ax.set_xlabel('$r$ [kpc]')\n",
    "ax.set_ylabel('$M(<r)$ [M$_\\odot$]')\n",
    "\n",
    "fig.tight_layout()\n",
    "\n",
    "fig.savefig(\"../paper/figures/mass-profile.pdf\")"
   ]
  },
  {
   "cell_type": "code",
   "execution_count": null,
   "metadata": {
    "collapsed": false
   },
   "outputs": [],
   "source": [
    "np.exp(p_opt[0]), p_opt[1]"
   ]
  },
  {
   "cell_type": "code",
   "execution_count": null,
   "metadata": {
    "collapsed": false
   },
   "outputs": [],
   "source": [
    "np.exp(p_opt[2]), p_opt[3]"
   ]
  },
  {
   "cell_type": "markdown",
   "metadata": {},
   "source": [
    "$$\n",
    "M_H = 5.73 \\times 10^{11}~Msun \\\\\n",
    "r_H = 15.6~{\\rm kpc} \\\\\n",
    "M_N = 1.98 \\times 10^{9}~Msun \\\\\n",
    "r_N = 79~{\\rm pc} \n",
    "$$"
   ]
  },
  {
   "cell_type": "code",
   "execution_count": null,
   "metadata": {
    "collapsed": true
   },
   "outputs": [],
   "source": []
  }
 ],
 "metadata": {
  "kernelspec": {
   "display_name": "Python [conda env:uncluster]",
   "language": "python",
   "name": "conda-env-uncluster-py"
  },
  "language_info": {
   "codemirror_mode": {
    "name": "ipython",
    "version": 3
   },
   "file_extension": ".py",
   "mimetype": "text/x-python",
   "name": "python",
   "nbconvert_exporter": "python",
   "pygments_lexer": "ipython3",
   "version": "3.5.2"
  }
 },
 "nbformat": 4,
 "nbformat_minor": 1
}