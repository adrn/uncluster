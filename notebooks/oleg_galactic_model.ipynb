{
 "cells": [
  {
   "cell_type": "markdown",
   "metadata": {},
   "source": [
    "## Mass model of the Galaxy"
   ]
  },
  {
   "cell_type": "code",
   "execution_count": null,
   "metadata": {
    "collapsed": false
   },
   "outputs": [],
   "source": [
    "%matplotlib inline\n",
    "from matplotlib import rcParams\n",
    "rcParams[\"savefig.dpi\"] = 100\n",
    "import numpy as np\n",
    "import matplotlib.pyplot as plt\n",
    "from scipy.special import gammainc"
   ]
  },
  {
   "cell_type": "markdown",
   "metadata": {},
   "source": [
    "### Observational constraints\n",
    "\n",
    "[Piffl et al. 2014](http://adsabs.harvard.edu/abs/2014A%26A...562A..91P) Mvir = (1.2-1.3)e12 Msun\n",
    "\n",
    "[Deason et al. 2012](http://adsabs.harvard.edu/abs/2012MNRAS.425.2840D) [at 150 kpc] M = (5-10)e11 Msun\n",
    "\n",
    "[Gnedin et al. 2010](http://adsabs.harvard.edu/abs/2010ApJ...720L.108G) [at 80 kpc] M = (6.9 +3.0-1.2)e11 Msun\n",
    "\n",
    "[Deason et al. 2012](http://adsabs.harvard.edu/abs/2012MNRAS.424L..44D) [at 50 kpc] M = (4.2 \u00b1 0.4)e11 Msun\n",
    "\n",
    "[McMillan 2016](http://arxiv.org/abs/1608.00971) M_disk,stellar = 5.4e10, Mvir = 1.3e12 Msun\n",
    "\n",
    "[Bovy & Rix 2013](http://adsabs.harvard.edu/abs/2013ApJ...779..115B) [at 4-9 kpc] M_disk = 5.3e10, M_disk,stellar = 4.6e10\n",
    "\n",
    "[Nakanishi & Sofue](http://adsabs.harvard.edu/abs/2016PASJ...68....5N) M_gas = 8e9 Msun\n",
    "\n",
    "[Bland-Hawthorn & Gerhard 2016](http://arxiv.org/abs/1602.07702) M_NSD = (1.4 \u00b1 0.6)e9 Msun, r_h,NSD = 90 pc,\n",
    "M_bulge = (1.4-1.7)e10 Msun, M_thin = (4 \u00b1 1)e10, r_thin = 2.6 \u00b1 0.5 kpc, M_thick = (8 \u00b1 3)e9 Msun, r_thick = 2 \u00b1 0.2 kpc, R_0 = 8.2 \u00b1 0.1 kpc, V_0 = 238 \u00b1 15 km/s, V_0/R_0 = 29.0 \u00b1 1.8 km/s/kpc, M(8.2kpc) = 1.08e11 Msun\n",
    "\n",
    "[Launhardt et all. 2002](http://adsabs.harvard.edu/abs/2002A%26A...384..112L) [at 120 pc] NSD mass = (8 \u00b1 2)e8 Msun, scale radius = 90 pc\n",
    "\n",
    "[Feldmeier et al. 2014](http://adsabs.harvard.edu/abs/2014A%26A...570A...2F) [at 10 pc] total mass = (3 \u00b1 1)e7 Msun\n",
    "\n",
    "[Chatzopoulos et al. 2015](http://adsabs.harvard.edu/abs/2015MNRAS.447..948C) [at 1 and 4 pc] R_0 = 8.33 \u00b1 0.11 kpc, M_BH = (4.23 \u00b1 0.14)e6 Msun, M_NSC = (1.8 \u00b1 0.3)e7 Msun, r_h,NSC = 4.2 \u00b1 0.4 pc, M_NSC(1pc) = 0.89e6 Msun"
   ]
  },
  {
   "cell_type": "code",
   "execution_count": null,
   "metadata": {
    "collapsed": false
   },
   "outputs": [],
   "source": [
    "robs =   np.array([ 0.001, 0.004, 0.01,  0.12, 8.2,     50.,    80.,    150.  ])\n",
    "Mobs =   np.array([ 5.1e6, 1.3e7, 2.6e7, 8.e8, 1.08e11, 4.2e11, 6.9e11, 9.0e11 ])\n",
    "Mobs_l = np.array([ 4.6e6, 1.1e7, 1.6e7, 6.e8, 9.37e10, 3.8e11, 5.0e11, 5.0e11 ])\n",
    "Mobs_u = np.array([ 5.6e6, 1.5e7, 3.6e7, 1.e9, 1.24e11, 4.6e11, 9.9e11, 1.1e12 ])"
   ]
  },
  {
   "cell_type": "markdown",
   "metadata": {},
   "source": [
    "Nuclear star cluster mass distribution from [Chatzopoulos et al. 2015](http://adsabs.harvard.edu/abs/2015MNRAS.447..948C)"
   ]
  },
  {
   "cell_type": "code",
   "execution_count": null,
   "metadata": {
    "collapsed": true
   },
   "outputs": [],
   "source": [
    "def M_dehnen( x, gam ):\n",
    "    return np.power(x/(1.+x), 3.-gam)\n",
    "\n",
    "def Mass_NSC( r ):\n",
    "    mfrac1 = 1./106.45       # fraction of mass in first component\n",
    "    mfrac = [ mfrac1, 1.-mfrac1 ]\n",
    "    rh = 0.0042              # half-mass radius of the nuclear star cluster in kpc\n",
    "    gam = [ 0.51, 0.07 ]     # inner logarithmic slope\n",
    "    ascale = [ 99., 2376. ]  # scale length in arcsec\n",
    "    arcsec = 4.e-5           # 1 arcsec in kpc at the distance of the Galactic Center\n",
    "    asc = np.array(ascale)*arcsec\n",
    "    part = [ frac*M_dehnen(r/a, g) for (a,g,frac) in zip(asc,gam,mfrac) ]\n",
    "    parth = [ frac*M_dehnen(rh/a, g) for (a,g,frac) in zip(asc,gam,mfrac) ]\n",
    "    fracm = np.minimum( np.sum(part)/np.sum(parth)/2., 1. )\n",
    "    return Mnsc*fracm"
   ]
  },
  {
   "cell_type": "markdown",
   "metadata": {},
   "source": [
    "Galactic mass components: nuclear star cluster, bulge, disk, and dark matter halo"
   ]
  },
  {
   "cell_type": "code",
   "execution_count": null,
   "metadata": {
    "collapsed": false
   },
   "outputs": [],
   "source": [
    "def NSC():\n",
    "    M = 1.8e7   # mass of the nuclear star cluster in Msun\n",
    "    return M\n",
    "\n",
    "def Bulge():\n",
    "    M = 1.4e10  # mass of stellar bulge/bar in Msun (in G05 was 1e10)\n",
    "    a = 0.4     # scale length of stellar bulge in kpc (in G05 was 0.6)\n",
    "    return M, a\n",
    "\n",
    "def Disk():\n",
    "    M = 5.6e10  # mass of stellar and gaseous disk in Msun (in G05 was 4e10)\n",
    "    a = 2.6     # scale length of stellar disk in kpc (in G05 was 5)\n",
    "    b = 0.3     # scale height of stellar disk in kpc\n",
    "    return M, a, b\n",
    "\n",
    "def Halo():\n",
    "    M = 1.2e12  # mass of dark matter halo\n",
    "    rs = 20.    # halo scale radius, in kpc\n",
    "    xm = 2.2    # scaled radius of maximum circular velocity\n",
    "    return M, rs, xm\n",
    "\n",
    "def SMBH():\n",
    "    M = 4.2e6   # mass of central black hole\n",
    "    return M\n",
    "\n",
    "Mnsc = NSC()\n",
    "Mbulge, abulge = Bulge()\n",
    "Mdisk, adisk, bdisk = Disk()\n",
    "Mhalo, rs, xm = Halo()\n",
    "MBH = SMBH()\n",
    "\n",
    "Mvir = Mhalo + Mdisk + Mbulge + Mnsc + MBH\n",
    "\n",
    "kms2 = 4.30e-6                         # conversion from GMsun/kpc to (km/s)^2\n",
    "Rvir = 56.*np.power(Mvir/1.e10, 1./3.) # virial radius in kpc, for delta0=340\n",
    "c = Rvir/rs                            # halo concentration parameter\n",
    "Mh = Mhalo/(np.log(1.+c)-c/(1.+c))\n",
    "print('M_vir = %.2e Msun  R_vir = %.1f kpc  c_vir = %.1f'%(Mvir, Rvir, c))\n",
    "\n",
    "#print 'M_NSC = %.2e Msun'%(Mass_NSC(0.01))"
   ]
  },
  {
   "cell_type": "code",
   "execution_count": null,
   "metadata": {
    "collapsed": false
   },
   "outputs": [],
   "source": [
    "# from galaxy_mass_model import galaxy_mass_model\n",
    "\n",
    "# gm = galaxy_mass_model()\n",
    "\n",
    "# MBH = gm.M_BH\n",
    "# print(gm.M_BH)"
   ]
  },
  {
   "cell_type": "code",
   "execution_count": null,
   "metadata": {
    "collapsed": false,
    "scrolled": false
   },
   "outputs": [],
   "source": [
    "plt.figure(figsize=(8,6))\n",
    "plt.xlim(-3.5, 2.5)\n",
    "plt.ylim(6.4, 12.4)\n",
    "rcParams['lines.linewidth'] = 1.5\n",
    "rcParams['xtick.major.size'] = 6\n",
    "rcParams['ytick.major.size'] = 6\n",
    "rcParams['xtick.labelsize'] = 14\n",
    "rcParams['ytick.labelsize'] = 14\n",
    "plt.xlabel(r'$\\log{\\,r}\\ (\\mathrm{kpc})$', fontsize=18)\n",
    "plt.ylabel(r'$\\log{\\,M}\\ (M_\\odot)$', fontsize=18)\n",
    "\n",
    "lgr = np.arange(-3.5, 2.6, 0.05)\n",
    "r = 10.**lgr\n",
    "\n",
    "# best model\n",
    "Mnsc_g = np.array([ Mass_NSC(rr) for rr in r ])\n",
    "#Mbulge_g = Mbulge*r**2/(r + abulge)**2\n",
    "#Mdisk_g = Mdisk*r**3/(r**2 + (adisk+np.sqrt(0.**2+bdisk**2))**2)**1.5\n",
    "#Mhalo_g = Mh*(np.log(1.+r/rs) - r/rs/(1.+r/rs))\n",
    "Mbulge_g = np.array([ Mass_Bulge(rr) for rr in r ])\n",
    "Mdisk_g = np.array([ Mass_Disk(rr, 0.) for rr in r ])\n",
    "Mhalo_g = np.array([ Mass_Halo(rr) for rr in r ])\n",
    "Mtot = MBH + Mnsc_g + Mbulge_g + Mdisk_g + Mhalo_g\n",
    "\n",
    "#plt.plot(lgr, np.log10(Mnsc_g), 'k--')\n",
    "#plt.plot(lgr, np.log10(Mbulge_g), 'k:')\n",
    "#plt.plot(lgr, np.log10(Mdisk_g), 'k-.')\n",
    "plt.plot(lgr, np.log10(Mtot), 'k-')\n",
    "\n",
    "#plt.text(1.2, 7.65, 'nuclear cluster', fontsize=12)\n",
    "#plt.text(1.9, 9.85, 'bulge', fontsize=12)\n",
    "#plt.text(1.9, 10.45, 'disk', fontsize=12)\n",
    "#plt.text(1.9, 11.4, 'halo', fontsize=12)\n",
    "\n",
    "# Sersic fit, used in Gnedin, Ostriker & Tremaine 2014\n",
    "nser = 4.     # Sersic index (in G14 was 2.2)\n",
    "aser = 4.     # effective radius, in kpc\n",
    "bn = 2.*nser-1./3.+0.0098765/nser+0.0018/nser**2\n",
    "Mser = 5.e10*gammainc(2*nser, bn*(r/aser)**(1./nser))\n",
    "#plt.plot(lgr, np.log10(Mser + Mhalo_g + MBH), 'g-')\n",
    "    \n",
    "# Gnedin 2005 model\n",
    "Mbulge_g5 = 1e10*r**2/(r + 0.6)**2\n",
    "Mdisk_g5 = 4e10*r**3/(r**2 + (5.+0.3)**2)**1.5\n",
    "Mhalo_g5 = Mh/1.2*(np.log(1.+r/rs) - r/rs/(1.+r/rs))\n",
    "Mtot_g5 = MBH + Mbulge_g5 + Mdisk_g5 + Mhalo_g5\n",
    "#plt.plot(lgr, np.log10(Mtot_g5), 'g-')\n",
    "#plt.text(1., 7.7, 'Gnedin+05', color='g', fontsize=12)\n",
    "\n",
    "# Kenyon 2008 model, updated in Brown et al. 2014\n",
    "Mbulge_k = 3.76e9*r**2/(r + 0.1)**2\n",
    "Mdisk_k = 6e10*r**3/(r**2 + (2.75+bdisk)**2)**1.5\n",
    "Mtot_k = MBH + Mbulge_k + Mdisk_k + Mhalo_g/1.2\n",
    "#plt.plot(lgr, np.log10(Mtot_k), 'b-')\n",
    "#plt.text(1., 8.3, 'Kenyon+08', color='b', fontsize=12)\n",
    "\n",
    "# observational points\n",
    "plt.scatter(np.log10(robs), np.log10(Mobs), s=20, marker='s', color='k')\n",
    "\n",
    "yerr1 = np.log10(Mobs) - np.log10(Mobs_l)\n",
    "yerr2 = np.log10(Mobs_u) - np.log10(Mobs)\n",
    "plt.errorbar(np.log10(robs), np.log10(Mobs), yerr=[yerr1,yerr2], ecolor='k', capthick=0, linestyle='None')\n",
    "\n",
    "plt.show()\n",
    "#plt.savefig('galactic_mass_compare.png')"
   ]
  },
  {
   "cell_type": "markdown",
   "metadata": {
    "collapsed": true
   },
   "source": [
    "Escape velocity curve"
   ]
  },
  {
   "cell_type": "code",
   "execution_count": null,
   "metadata": {
    "collapsed": false
   },
   "outputs": [],
   "source": [
    "# best model\n",
    "pot = -Mbulge/(r+abulge) -Mnsc/r -MBH/r -Mdisk/np.sqrt(0**2+(adisk+np.sqrt(r**2+bdisk**2))**2) -Mh/r*np.log(1.+r/rs)\n",
    "Vesc = np.sqrt(-2.*pot*kms2)\n",
    "\n",
    "# Kenyon 2008 model\n",
    "pot_k = -3.76e9/(r+0.1) -MBH/r -6e10/np.sqrt(0**2+(2.75+np.sqrt(r**2+bdisk**2))**2) -Mh/1.2/r*np.log(1.+r/rs)\n",
    "Vesc_k = np.sqrt(-2.*pot_k*kms2)\n",
    "\n",
    "plt.figure(figsize=(6,4))\n",
    "plt.xlim(-3, 2.5)\n",
    "plt.ylim(0, 1000)\n",
    "rcParams['lines.linewidth'] = 1.5\n",
    "rcParams['xtick.major.size'] = 6\n",
    "rcParams['ytick.major.size'] = 6\n",
    "rcParams['xtick.labelsize'] = 12\n",
    "rcParams['ytick.labelsize'] = 12\n",
    "plt.xlabel(r'$\\log{\\,r}\\ (\\mathrm{kpc})$', fontsize=18)\n",
    "plt.ylabel(r'$V_{esc}\\ (\\mathrm{km\\, s}^{-1})$', fontsize=18)\n",
    "\n",
    "plt.plot(lgr, Vesc, 'k-')\n",
    "plt.plot(lgr, Vesc_k, 'b-')\n",
    "\n",
    "plt.show()"
   ]
  },
  {
   "cell_type": "code",
   "execution_count": null,
   "metadata": {
    "collapsed": false
   },
   "outputs": [],
   "source": [
    "plt.figure(figsize=(6,4))\n",
    "plt.xlim(0, 100)\n",
    "plt.ylim(200, 800)\n",
    "plt.xlabel(r'$r\\ (\\mathrm{kpc})$', fontsize=18)\n",
    "plt.ylabel(r'$V_{esc}\\ (\\mathrm{km\\, s}^{-1})$', fontsize=18)\n",
    "\n",
    "plt.plot(r, Vesc, 'k-')\n",
    "plt.plot(r, Vesc_k, 'b-')\n",
    "\n",
    "plt.show()"
   ]
  },
  {
   "cell_type": "code",
   "execution_count": null,
   "metadata": {
    "collapsed": false
   },
   "outputs": [],
   "source": [
    "for lev in [ -3, -2, -1, 0., 1., 2. ]:\n",
    "    l = np.fabs(lgr-lev) < 0.001\n",
    "    print r[l], Vesc[l], Vesc_k[l]"
   ]
  },
  {
   "cell_type": "code",
   "execution_count": null,
   "metadata": {
    "collapsed": true
   },
   "outputs": [],
   "source": []
  }
 ],
 "metadata": {
  "anaconda-cloud": {},
  "kernelspec": {
   "display_name": "Python [conda env:uncluster]",
   "language": "python",
   "name": "conda-env-uncluster-py"
  },
  "language_info": {
   "codemirror_mode": {
    "name": "ipython",
    "version": 3
   },
   "file_extension": ".py",
   "mimetype": "text/x-python",
   "name": "python",
   "nbconvert_exporter": "python",
   "pygments_lexer": "ipython3",
   "version": "3.5.2"
  }
 },
 "nbformat": 4,
 "nbformat_minor": 0
}