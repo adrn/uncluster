{
 "cells": [
  {
   "cell_type": "code",
   "execution_count": null,
   "metadata": {
    "collapsed": true
   },
   "outputs": [],
   "source": [
    "import astropy.units as u\n",
    "import numpy as np\n",
    "import gala.potential as gp\n",
    "from gala.units import dimensionless\n",
    "\n",
    "import matplotlib.pyplot as plt\n",
    "plt.style.use('apw-notebook')\n",
    "%matplotlib inline\n",
    "\n",
    "from scipy.misc import derivative\n",
    "from scipy.integrate import quad\n",
    "from scipy.interpolate import interp1d\n",
    "from scipy.optimize import root"
   ]
  },
  {
   "cell_type": "code",
   "execution_count": null,
   "metadata": {
    "collapsed": true
   },
   "outputs": [],
   "source": [
    "pot = gp.HernquistPotential(m=1., c=1., units=dimensionless)"
   ]
  },
  {
   "cell_type": "code",
   "execution_count": null,
   "metadata": {
    "collapsed": false
   },
   "outputs": [],
   "source": [
    "dm_dr = np.zeros(128)\n",
    "r0s = np.logspace(-2, 1., dm_dr.size)\n",
    "for i,r0 in enumerate(r0s):\n",
    "    d = derivative(lambda r: pot.c_instance.mass_enclosed(np.array([[r,0,0]]), 1.)[0], r0, dx=1E-3*r0)\n",
    "    dm_dr[i] = d"
   ]
  },
  {
   "cell_type": "code",
   "execution_count": null,
   "metadata": {
    "collapsed": false
   },
   "outputs": [],
   "source": [
    "plt.loglog(r0s, dm_dr/(4*np.pi*r0s**2))\n",
    "\n",
    "q = np.zeros((3,r0s.size))\n",
    "q[0] = r0s\n",
    "plt.loglog(r0s, pot.density(q))"
   ]
  },
  {
   "cell_type": "markdown",
   "metadata": {},
   "source": [
    "---"
   ]
  },
  {
   "cell_type": "code",
   "execution_count": null,
   "metadata": {
    "collapsed": true
   },
   "outputs": [],
   "source": [
    "from scipy.special import gammainc"
   ]
  },
  {
   "cell_type": "code",
   "execution_count": null,
   "metadata": {
    "collapsed": true
   },
   "outputs": [],
   "source": [
    "rmax = 100.\n",
    "n_s = 2.2 \n",
    "R_e = 4.\n",
    "\n",
    "an = 2 * n_s\n",
    "bn = 2. * n_s - 1./3. + 0.0098765/n_s + 0.0018/n_s**2 # approximation from Ciotti ...something\n",
    "\n",
    "argc = bn * (rmax/R_e) ** (1./n_s)\n",
    "gamnorm = gammainc(an, argc)\n",
    "\n",
    "def _sersic_mass_enclosed(r):\n",
    "    arg = bn * (r/R_e)**(1./n_s)\n",
    "    return gammainc(an, arg) / gamnorm"
   ]
  },
  {
   "cell_type": "code",
   "execution_count": null,
   "metadata": {
    "collapsed": false
   },
   "outputs": [],
   "source": [
    "dm_dr = np.zeros(4096)\n",
    "r0s = np.logspace(-2, 2., dm_dr.size)\n",
    "for i,r0 in enumerate(r0s):\n",
    "    d = derivative(_sersic_mass_enclosed, r0, dx=1E-3*r0)\n",
    "    dm_dr[i] = d"
   ]
  },
  {
   "cell_type": "code",
   "execution_count": null,
   "metadata": {
    "collapsed": false
   },
   "outputs": [],
   "source": [
    "plt.loglog(r0s, dm_dr/(4*np.pi*r0s**2))\n",
    "\n",
    "_hernquist = gp.HernquistPotential(m=1., c=2., units=dimensionless)\n",
    "q = np.zeros((3,r0s.size))\n",
    "q[0] = r0s\n",
    "plt.loglog(r0s, _hernquist.density(q))"
   ]
  },
  {
   "cell_type": "code",
   "execution_count": null,
   "metadata": {
    "collapsed": true
   },
   "outputs": [],
   "source": [
    "from scipy.special import gamma, gammainc\n",
    "def _sersic_frac_mass_enclosed(r, rmax=np.inf, n_s=2.2, R_e=4.):\n",
    "    \"\"\"\n",
    "    This was adapted from Oleg's C code (uncluster/src/gc_evolution.c).\n",
    "    For the Milky Way, the parameters (r_s, n_s, etc.) don't evolve and z=0.\n",
    "    \"\"\"\n",
    "    a_n = 2 * n_s\n",
    "    b_n = 2. * n_s - 1./3. + 0.0098765/n_s + 0.0018/n_s**2 # approximation from Ciotti ...something\n",
    "    \n",
    "    argc = b_n * (rmax/R_e) ** (1./n_s)\n",
    "    gamnorm = gammainc(a_n, argc)\n",
    "    \n",
    "    arg = b_n * (r/R_e)**(1./n_s)\n",
    "    return gammainc(a_n, arg) / gamnorm"
   ]
  },
  {
   "cell_type": "code",
   "execution_count": null,
   "metadata": {
    "collapsed": false
   },
   "outputs": [],
   "source": [
    "_sersic_frac_mass_enclosed(1000., rmax=np.inf)"
   ]
  },
  {
   "cell_type": "code",
   "execution_count": null,
   "metadata": {
    "collapsed": true
   },
   "outputs": [],
   "source": []
  }
 ],
 "metadata": {
  "kernelspec": {
   "display_name": "Python [conda env:uncluster]",
   "language": "python",
   "name": "conda-env-uncluster-py"
  },
  "language_info": {
   "codemirror_mode": {
    "name": "ipython",
    "version": 3
   },
   "file_extension": ".py",
   "mimetype": "text/x-python",
   "name": "python",
   "nbconvert_exporter": "python",
   "pygments_lexer": "ipython3",
   "version": "3.5.2"
  }
 },
 "nbformat": 4,
 "nbformat_minor": 1
}