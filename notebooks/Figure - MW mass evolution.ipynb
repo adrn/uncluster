{
 "cells": [
  {
   "cell_type": "code",
   "execution_count": null,
   "metadata": {
    "collapsed": false
   },
   "outputs": [],
   "source": [
    "from __future__ import division, print_function\n",
    "\n",
    "# Third-party\n",
    "from astropy.constants import G\n",
    "import astropy.cosmology as ac\n",
    "import astropy.units as u\n",
    "import matplotlib.pyplot as plt\n",
    "import numpy as np\n",
    "plt.style.use('apw-notebook')\n",
    "%matplotlib inline\n",
    "\n",
    "# Custom\n",
    "import gala.coordinates as gc\n",
    "import gala.dynamics as gd\n",
    "import gala.integrate as gi\n",
    "import gala.potential as gp\n",
    "from gala.units import galactic"
   ]
  },
  {
   "cell_type": "code",
   "execution_count": null,
   "metadata": {
    "collapsed": false
   },
   "outputs": [],
   "source": [
    "cosmo.lookback_time(2.5)"
   ]
  },
  {
   "cell_type": "code",
   "execution_count": null,
   "metadata": {
    "collapsed": true
   },
   "outputs": [],
   "source": [
    "M_vir0 = 1E12 * u.Msun\n",
    "cosmo = ac.Planck15"
   ]
  },
  {
   "cell_type": "code",
   "execution_count": null,
   "metadata": {
    "collapsed": true
   },
   "outputs": [],
   "source": [
    "def Delta(z): \n",
    "    \"\"\" An approximation thanks to Dekel & Birnboim 2006 (see appendix) \"\"\"\n",
    "    return (18*np.pi**2 - 82*cosmo.Ode(z) - 39*cosmo.Ode(z)**2) / cosmo.Om(z)\n",
    "\n",
    "def M_vir(z):\n",
    "    return M_vir0 * np.exp(-0.9*z)\n",
    "\n",
    "def R_vir(z):\n",
    "    _Delta = (Delta(z) / 200)**(-1/3.)\n",
    "    _Om = (cosmo.Om(z) / 0.3)**(-1/3.)\n",
    "    _h2 = (cosmo.h / 0.7)**(-2/3.)\n",
    "    return 309 * (M_vir(z)/(1E12*u.Msun))**(1/3) * _Delta * _Om * _h2 / (1 + z) * u.kpc"
   ]
  },
  {
   "cell_type": "code",
   "execution_count": null,
   "metadata": {
    "collapsed": false
   },
   "outputs": [],
   "source": [
    "def f_star(z, M_star0):\n",
    "    \"\"\" Code from Sam Leitner: https://github.com/sleitner/star-formation-histories\"\"\"\n",
    "    R = 0.45\n",
    "    beta = -0.35\n",
    "    alpha = 3.45\n",
    "    M0 = 10**11.0\n",
    "    dadt = 0.064/1e9\n",
    "    A0 = 3.24\n",
    "    r11 = (M_star0/M0)**(1+beta)\n",
    "    return M0/M_star0*( ((M_star0/M0)**-beta + beta/dadt * (1-R)/(alpha-1)*A0/M0*((1+z)**(alpha-1)-1)))**(-1/beta)\n",
    "\n",
    "def r_star(z, r_star0):\n",
    "    return r_star0 * R_vir(z) / R_vir(0.)"
   ]
  },
  {
   "cell_type": "code",
   "execution_count": null,
   "metadata": {
    "collapsed": true
   },
   "outputs": [],
   "source": [
    "# TODO: get all of this from importing from uncluster.potential\n",
    "M_disk0 = 6.8E10 * u.Msun\n",
    "M_bulge0 = 5E9 * u.Msun\n",
    "M_nucl0 = 1.76E9 * u.Msun\n",
    "\n",
    "r_disk0 = 3. * u.kpc\n",
    "r_bulge0 = 1 * u.kpc\n",
    "r_nucl0 = 67.9 * u.pc\n",
    "r_halo = 16.*u.kpc\n",
    "\n",
    "def get_potential(z):\n",
    "    \n",
    "    Mvir = M_vir(z)\n",
    "    rvir = R_vir(z)\n",
    "    \n",
    "    c = rvir / r_halo\n",
    "    M_halo = Mvir / (np.log(c+1) - c/(c+1))\n",
    "    \n",
    "    M_disk = M_disk0 * f_star(z, M_disk0.to(u.Msun).value)\n",
    "    M_bulge = M_bulge0 * f_star(z, M_bulge0.to(u.Msun).value)\n",
    "    M_nucl = M_nucl0 * f_star(z, M_nucl0.to(u.Msun).value)\n",
    "    \n",
    "    if np.isnan(M_bulge) or M_bulge < 0.:\n",
    "        M_bulge = 0.\n",
    "    \n",
    "    if np.isnan(M_nucl) or M_nucl < 0.:\n",
    "        M_nucl = 0.\n",
    "    \n",
    "    rs_disk = r_star(z, r_disk0)\n",
    "    rs_bulge = r_star(z, r_bulge0)\n",
    "    rs_nucl = r_star(z, r_nucl0)\n",
    "    \n",
    "    mw_potential = gp.CCompositePotential()\n",
    "    mw_potential['nucl'] =  gp.HernquistPotential(m=M_nucl, c=rs_nucl, units=galactic)\n",
    "    mw_potential['bulge'] = gp.HernquistPotential(m=M_bulge, c=rs_bulge, units=galactic)\n",
    "    mw_potential['disk'] = gp.MiyamotoNagaiPotential(m=M_disk, a=rs_disk, b=280*u.pc, \n",
    "                                                     units=galactic)\n",
    "\n",
    "    # for DM halo potential\n",
    "    v_c = np.sqrt(((np.log(2.) - 0.5) * (G * M_halo / r_halo)).decompose(galactic).value)\n",
    "    mw_potential['halo'] = gp.SphericalNFWPotential(v_c=v_c, r_s=r_halo, units=galactic)\n",
    "    \n",
    "    return mw_potential"
   ]
  },
  {
   "cell_type": "code",
   "execution_count": null,
   "metadata": {
    "collapsed": false
   },
   "outputs": [],
   "source": [
    "z = np.linspace(0,5,256)\n",
    "t = cosmo.lookback_time(z)\n",
    "\n",
    "fig,axes = plt.subplots(1,2,figsize=(10,4), sharey=True)\n",
    "\n",
    "for x in range(8,11+1):\n",
    "    axes[0].plot(t, f_star(z, 10**x), marker='', label=r'$10^{{{}}} \\, {{\\rm M}}_\\odot$'.format(x))\n",
    "    axes[1].plot(z, f_star(z, 10**x), marker='')\n",
    "    \n",
    "axes[0].set_xlim(0, 13.7)\n",
    "axes[1].set_xlim(5, 0)\n",
    "axes[0].set_xlabel('lookback time [Gyr]')\n",
    "axes[0].set_ylabel(\"$f_*(t)$\")\n",
    "axes[1].set_xlabel('redshift, $z$')\n",
    "\n",
    "axes[0].legend()\n",
    "\n",
    "fig.tight_layout()"
   ]
  },
  {
   "cell_type": "code",
   "execution_count": null,
   "metadata": {
    "collapsed": false
   },
   "outputs": [],
   "source": [
    "zz = np.linspace(0, 2.5, 128)\n",
    "\n",
    "M_enc = dict()\n",
    "M_enc['rs_h'] = []\n",
    "for z in zz:\n",
    "    pot = get_potential(z)\n",
    "    M_enc['rs_h'].append(pot.mass_enclosed([r_halo.value,0.,0]*u.kpc)[0])\n",
    "        \n",
    "for k in M_enc.keys():\n",
    "    M_enc[k] = u.Quantity(M_enc[k])"
   ]
  },
  {
   "cell_type": "code",
   "execution_count": null,
   "metadata": {
    "collapsed": false
   },
   "outputs": [],
   "source": [
    "style = dict(marker='', linewidth=2.)\n",
    "\n",
    "fig,axes = plt.subplots(1, 2, figsize=(8,4), sharex=True)\n",
    "\n",
    "axes[0].semilogy(zz, M_vir(zz), label=r'$M_{\\rm vir}$', **style)\n",
    "axes[0].semilogy(zz, M_enc['rs_h'], label=r'$M(<r_{\\rm H})$', marker='', linewidth=1.)\n",
    "\n",
    "axes[1].semilogy(zz, R_vir(zz), **style)\n",
    "\n",
    "axes[0].set_xlim(zz.max(), zz.min())\n",
    "axes[0].set_ylim(1E10, 3E12)\n",
    "\n",
    "axes[0].set_xlabel('redshift, $z$')\n",
    "axes[1].set_xlabel('redshift, $z$')\n",
    "\n",
    "axes[0].set_ylabel(r'$M_{\\rm vir}\\,[{\\rm M}_\\odot]$')\n",
    "axes[1].set_ylabel(r'$r_{\\rm vir}\\,[{\\rm kpc}]$')\n",
    "\n",
    "axes[0].legend(loc='upper left')\n",
    "\n",
    "fig.suptitle(\"Evolution of Milky Way mass model\", fontsize=20, y=0.98)#, x=0.55)\n",
    "\n",
    "fig.tight_layout()\n",
    "fig.subplots_adjust(top=0.86)\n",
    "fig.savefig(\"../paper/figures/mass-evolution.pdf\")"
   ]
  },
  {
   "cell_type": "code",
   "execution_count": null,
   "metadata": {
    "collapsed": true
   },
   "outputs": [],
   "source": []
  }
 ],
 "metadata": {
  "anaconda-cloud": {},
  "kernelspec": {
   "display_name": "Python [conda env:uncluster]",
   "language": "python",
   "name": "conda-env-uncluster-py"
  },
  "language_info": {
   "codemirror_mode": {
    "name": "ipython",
    "version": 3
   },
   "file_extension": ".py",
   "mimetype": "text/x-python",
   "name": "python",
   "nbconvert_exporter": "python",
   "pygments_lexer": "ipython3",
   "version": "3.5.2"
  }
 },
 "nbformat": 4,
 "nbformat_minor": 1
}