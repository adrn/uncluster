{
 "cells": [
  {
   "cell_type": "markdown",
   "metadata": {},
   "source": [
    "Experiment with sampling from distribution functions"
   ]
  },
  {
   "cell_type": "code",
   "execution_count": null,
   "metadata": {
    "collapsed": false
   },
   "outputs": [],
   "source": [
    "from astropy.constants import G\n",
    "import astropy.units as u\n",
    "import numpy as np\n",
    "import matplotlib.pyplot as plt\n",
    "from scipy.optimize import root\n",
    "from scipy.integrate import quad\n",
    "import emcee\n",
    "\n",
    "from gala.mpl_style import mpl_style\n",
    "import gala.potential as gp\n",
    "from gala.units import dimensionless\n",
    "\n",
    "plt.style.use('apw-notebook')\n",
    "%matplotlib inline"
   ]
  },
  {
   "cell_type": "markdown",
   "metadata": {},
   "source": [
    "### Hernquist with:\n",
    "### $G=M=a=1$"
   ]
  },
  {
   "cell_type": "code",
   "execution_count": null,
   "metadata": {
    "collapsed": false
   },
   "outputs": [],
   "source": [
    "pot = gp.HernquistPotential(m=1., c=1., units=dimensionless)"
   ]
  },
  {
   "cell_type": "code",
   "execution_count": null,
   "metadata": {
    "collapsed": true
   },
   "outputs": [],
   "source": [
    "def sample_radii(pot, size=1, r_min=0.*u.kpc, r_max=np.inf*u.kpc):\n",
    "    r_min = r_min.to(u.kpc).value\n",
    "    r_max = r_max.to(u.kpc).value\n",
    "    \n",
    "    # hernquist-specific\n",
    "    Menc = lambda rr: rr**2 / (1+rr)**2\n",
    "    Mtot = 1.\n",
    "    \n",
    "    def root_func(r, m):\n",
    "        return (m - Menc(float(r))/Mtot)\n",
    "    \n",
    "    if r_min == 0.:\n",
    "        m_min = 0.\n",
    "    else:\n",
    "        m_min = Menc(r_min)/Mtot\n",
    "        \n",
    "    if r_max == np.inf:\n",
    "        m_max = 1.\n",
    "    else:\n",
    "        m_max = Menc(r_max)/Mtot\n",
    "    \n",
    "    m = np.random.uniform(m_min, m_max, size=size)\n",
    "    return np.array([root(root_func, 1., args=(m[i],)).x[0] for i in range(size)]) * u.kpc"
   ]
  },
  {
   "cell_type": "code",
   "execution_count": null,
   "metadata": {
    "collapsed": false
   },
   "outputs": [],
   "source": [
    "r = sample_radii(pot, 10000)"
   ]
  },
  {
   "cell_type": "code",
   "execution_count": null,
   "metadata": {
    "collapsed": true
   },
   "outputs": [],
   "source": [
    "xyz = np.zeros((3,r.size)) * r.unit\n",
    "xyz[0] = r"
   ]
  },
  {
   "cell_type": "markdown",
   "metadata": {},
   "source": [
    "## Make sure the sampled radii follow the correct profile"
   ]
  },
  {
   "cell_type": "code",
   "execution_count": null,
   "metadata": {
    "collapsed": false
   },
   "outputs": [],
   "source": [
    "bins = np.logspace(-3, 3, 32)\n",
    "H,_ = np.histogram(r, bins=bins)\n",
    "\n",
    "V = 4/3*np.pi*(bins[1:]**3 - bins[:-1]**3)\n",
    "bin_cen = (bins[1:]+bins[:-1])/2.\n",
    "\n",
    "q = np.zeros((3,len(bin_cen)))\n",
    "q[0] = bin_cen\n",
    "plt.plot(bin_cen, pot.density(q) / pot.parameters['m'], marker=None, lw=2., ls='--')\n",
    "\n",
    "plt.loglog(bin_cen, H/V/r.size, marker=None)\n",
    "\n",
    "plt.xlabel('$r$ [kpc]')\n",
    "plt.ylabel('$n(r)$ [kpc$^{-3}$]')"
   ]
  },
  {
   "cell_type": "code",
   "execution_count": null,
   "metadata": {
    "collapsed": true
   },
   "outputs": [],
   "source": [
    "def hernquist_df(curly_E_tilde):\n",
    "    E = curly_E_tilde\n",
    "    \n",
    "    A = (np.sqrt(2)*(2*np.pi)**3)**-1 * np.sqrt(E) / (1-E)**2\n",
    "    term1 = (1 - 2*E)*(8*E**2 - 8*E - 3)\n",
    "    term2 = 3*np.arcsin(np.sqrt(E)) / np.sqrt(E*(1-E))\n",
    "    \n",
    "    return A * (term1 + term2)"
   ]
  },
  {
   "cell_type": "markdown",
   "metadata": {},
   "source": [
    "### Compare to Figure 4.2 in BT08"
   ]
  },
  {
   "cell_type": "code",
   "execution_count": null,
   "metadata": {
    "collapsed": false
   },
   "outputs": [],
   "source": [
    "eee = np.linspace(0, 1.5, 256)\n",
    "\n",
    "plt.plot(eee, np.log10(hernquist_df(eee)), marker=None)\n",
    "plt.xlim(0,1.5)\n",
    "plt.ylim(-7, 4)\n",
    "plt.xlabel(r'$\\tilde{\\mathcal{E}}$')\n",
    "plt.ylabel(r'$\\log_{10}[(GMa)^{3/2} f]$')"
   ]
  },
  {
   "cell_type": "code",
   "execution_count": null,
   "metadata": {
    "collapsed": true
   },
   "outputs": [],
   "source": [
    "import math"
   ]
  },
  {
   "cell_type": "code",
   "execution_count": null,
   "metadata": {
    "collapsed": true
   },
   "outputs": [],
   "source": [
    "def _hernquist_df(E):    \n",
    "    A = (math.sqrt(2)*(2*math.pi)**3)**-1 * math.sqrt(E) / (1-E)**2\n",
    "    term1 = (1 - 2*E)*(8*E**2 - 8*E - 3)\n",
    "    term2 = 3*math.asin(math.sqrt(E)) / math.sqrt(E*(1-E))\n",
    "    \n",
    "    return A * (term1 + term2)\n",
    "\n",
    "def _potential(r):\n",
    "    return -1. / (r + 1.)\n",
    "\n",
    "def vel_dist(v, r):\n",
    "    E = 0.5*v**2 + _potential(r)\n",
    "    curly_E = -E\n",
    "    if curly_E <= 0. or curly_E >= 1.:\n",
    "        return 0.\n",
    "    return v**2 * _hernquist_df(curly_E)\n",
    "\n",
    "# def ln_vel_dist(p, r):\n",
    "#     v = p[0]\n",
    "#     if v <= 0.:\n",
    "#         return -np.inf\n",
    "    \n",
    "#     E = 0.5*v**2 + _hernquist_potential(r, _G, M, a)\n",
    "#     curlyE = -E*a / (_G*M)\n",
    "    \n",
    "#     if curlyE <= 0. or curlyE >= 1.:\n",
    "#         return -np.inf\n",
    "\n",
    "#     return np.log(_hernquist_df(curlyE)) + 2*np.log(v)"
   ]
  },
  {
   "cell_type": "code",
   "execution_count": null,
   "metadata": {
    "collapsed": false
   },
   "outputs": [],
   "source": [
    "vs = np.linspace(0, 1., 1024)\n",
    "plt.plot(vs, [vel_dist(vv,8.) for vv in vs])"
   ]
  },
  {
   "cell_type": "markdown",
   "metadata": {},
   "source": [
    "# TODO: Now generate velocities for each $r$, turn into full-space position, velocity, integrate orbits, compute eccentricity"
   ]
  },
  {
   "cell_type": "code",
   "execution_count": null,
   "metadata": {
    "collapsed": false
   },
   "outputs": [],
   "source": [
    "n_walkers = 32\n",
    "sampler = emcee.EnsembleSampler(n_walkers, dim=1, lnpostfn=ln_vel_dist, args=(r[1].value,))\n",
    "p0 = np.random.normal(0.1, 1E-3, size=(n_walkers,1))\n",
    "pos,_,_ = sampler.run_mcmc(p0, 128)\n",
    "sampler.reset()\n",
    "_ = sampler.run_mcmc(pos, 128)"
   ]
  },
  {
   "cell_type": "code",
   "execution_count": null,
   "metadata": {
    "collapsed": false
   },
   "outputs": [],
   "source": [
    "plt.hist(sampler.flatchain)"
   ]
  },
  {
   "cell_type": "code",
   "execution_count": null,
   "metadata": {
    "collapsed": false
   },
   "outputs": [],
   "source": [
    "plt.hist(sampler.flatchain)"
   ]
  },
  {
   "cell_type": "code",
   "execution_count": null,
   "metadata": {
    "collapsed": false
   },
   "outputs": [],
   "source": [
    "for i in range(n_walkers):\n",
    "    plt.plot(sampler.chain[i,:,0], marker=None, drawstyle='steps', alpha=0.1)"
   ]
  },
  {
   "cell_type": "code",
   "execution_count": null,
   "metadata": {
    "collapsed": false
   },
   "outputs": [],
   "source": [
    "E = curly_E_tilde_to_E(sampler.chain[:,-1,0], pot)\n",
    "v = np.sqrt(2*(-E - pot.potential(xyz[:,:1024])))"
   ]
  },
  {
   "cell_type": "code",
   "execution_count": null,
   "metadata": {
    "collapsed": false
   },
   "outputs": [],
   "source": [
    "E"
   ]
  },
  {
   "cell_type": "code",
   "execution_count": null,
   "metadata": {
    "collapsed": false
   },
   "outputs": [],
   "source": [
    "pot.potential(xyz[:,:1024])"
   ]
  },
  {
   "cell_type": "code",
   "execution_count": null,
   "metadata": {
    "collapsed": false
   },
   "outputs": [],
   "source": [
    "v"
   ]
  },
  {
   "cell_type": "code",
   "execution_count": null,
   "metadata": {
    "collapsed": false
   },
   "outputs": [],
   "source": [
    "plt.hist(v.to(u.km/u.s))"
   ]
  },
  {
   "cell_type": "code",
   "execution_count": null,
   "metadata": {
    "collapsed": true
   },
   "outputs": [],
   "source": [
    "def sample_velocities(pot, size=1, Emin=1E-2, Emax=0.99):\n",
    "    "
   ]
  }
 ],
 "metadata": {
  "kernelspec": {
   "display_name": "Environment (gala-dev)",
   "language": "",
   "name": "gala-dev"
  },
  "language_info": {
   "codemirror_mode": {
    "name": "ipython",
    "version": 3
   },
   "file_extension": ".py",
   "mimetype": "text/x-python",
   "name": "python",
   "nbconvert_exporter": "python",
   "pygments_lexer": "ipython3",
   "version": "3.5.2"
  }
 },
 "nbformat": 4,
 "nbformat_minor": 0
}