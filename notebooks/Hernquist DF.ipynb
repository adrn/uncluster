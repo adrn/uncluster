{
 "cells": [
  {
   "cell_type": "markdown",
   "metadata": {},
   "source": [
    "Experiment with sampling from distribution functions"
   ]
  },
  {
   "cell_type": "code",
   "execution_count": null,
   "metadata": {
    "collapsed": false
   },
   "outputs": [],
   "source": [
    "import math\n",
    "import warnings\n",
    "\n",
    "import astropy.coordinates as coord\n",
    "from astropy.constants import G\n",
    "import astropy.units as u\n",
    "import emcee\n",
    "import numpy as np\n",
    "import matplotlib.pyplot as plt\n",
    "from scipy.optimize import root\n",
    "from scipy.integrate import quad\n",
    "\n",
    "from gala.mpl_style import mpl_style\n",
    "import gala.potential as gp\n",
    "import gala.dynamics as gd\n",
    "from gala.units import dimensionless\n",
    "\n",
    "plt.style.use('apw-notebook')\n",
    "%matplotlib inline"
   ]
  },
  {
   "cell_type": "markdown",
   "metadata": {},
   "source": [
    "### Hernquist with:\n",
    "### $G=M=a=1$"
   ]
  },
  {
   "cell_type": "code",
   "execution_count": null,
   "metadata": {
    "collapsed": false
   },
   "outputs": [],
   "source": [
    "pot = gp.HernquistPotential(m=1., c=1., units=dimensionless)"
   ]
  },
  {
   "cell_type": "code",
   "execution_count": null,
   "metadata": {
    "collapsed": true
   },
   "outputs": [],
   "source": [
    "N_orbits = 4096"
   ]
  },
  {
   "cell_type": "code",
   "execution_count": null,
   "metadata": {
    "collapsed": true
   },
   "outputs": [],
   "source": [
    "def sample_radii(pot, size=1, r_min=0.*u.kpc, r_max=np.inf*u.kpc):\n",
    "    r_min = r_min.to(u.kpc).value\n",
    "    r_max = r_max.to(u.kpc).value\n",
    "    \n",
    "    # hernquist-specific\n",
    "    Menc = lambda rr: rr**2 / (1+rr)**2\n",
    "    Mtot = 1.\n",
    "    \n",
    "    def root_func(r, m):\n",
    "        return (m - Menc(float(r))/Mtot)\n",
    "    \n",
    "    if r_min == 0.:\n",
    "        m_min = 0.\n",
    "    else:\n",
    "        m_min = Menc(r_min)/Mtot\n",
    "        \n",
    "    if r_max == np.inf:\n",
    "        m_max = 1.\n",
    "    else:\n",
    "        m_max = Menc(r_max)/Mtot\n",
    "    \n",
    "    m = np.random.uniform(m_min, m_max, size=size)\n",
    "    return np.array([root(root_func, 1., args=(m[i],)).x[0] for i in range(size)])"
   ]
  },
  {
   "cell_type": "code",
   "execution_count": null,
   "metadata": {
    "collapsed": false
   },
   "outputs": [],
   "source": [
    "r = sample_radii(pot, N_orbits)"
   ]
  },
  {
   "cell_type": "code",
   "execution_count": null,
   "metadata": {
    "collapsed": true
   },
   "outputs": [],
   "source": [
    "xyz = np.zeros((3,r.size))\n",
    "xyz[0] = r"
   ]
  },
  {
   "cell_type": "markdown",
   "metadata": {},
   "source": [
    "## Make sure the sampled radii follow the correct profile"
   ]
  },
  {
   "cell_type": "code",
   "execution_count": null,
   "metadata": {
    "collapsed": false
   },
   "outputs": [],
   "source": [
    "bins = np.logspace(-3, 3, 32)\n",
    "H,_ = np.histogram(r, bins=bins)\n",
    "\n",
    "V = 4/3*np.pi*(bins[1:]**3 - bins[:-1]**3)\n",
    "bin_cen = (bins[1:]+bins[:-1])/2.\n",
    "\n",
    "q = np.zeros((3,len(bin_cen)))\n",
    "q[0] = bin_cen\n",
    "plt.plot(bin_cen, pot.density(q) / pot.parameters['m'], marker=None, lw=2., ls='--')\n",
    "\n",
    "plt.loglog(bin_cen, H/V/r.size, marker=None)\n",
    "\n",
    "plt.xlabel('$r$')\n",
    "plt.ylabel('$n(r)$')"
   ]
  },
  {
   "cell_type": "code",
   "execution_count": null,
   "metadata": {
    "collapsed": true
   },
   "outputs": [],
   "source": [
    "def hernquist_df(curly_E_tilde):\n",
    "    E = curly_E_tilde\n",
    "    \n",
    "    A = (np.sqrt(2)*(2*np.pi)**3)**-1 * np.sqrt(E) / (1-E)**2\n",
    "    term1 = (1 - 2*E)*(8*E**2 - 8*E - 3)\n",
    "    term2 = 3*np.arcsin(np.sqrt(E)) / np.sqrt(E*(1-E))\n",
    "    \n",
    "    return A * (term1 + term2)"
   ]
  },
  {
   "cell_type": "markdown",
   "metadata": {},
   "source": [
    "### Compare to Figure 4.2 in BT08"
   ]
  },
  {
   "cell_type": "code",
   "execution_count": null,
   "metadata": {
    "collapsed": false
   },
   "outputs": [],
   "source": [
    "eee = np.linspace(0, 1.5, 256)\n",
    "\n",
    "plt.plot(eee, np.log10(hernquist_df(eee)), marker=None)\n",
    "plt.xlim(0,1.5)\n",
    "plt.ylim(-7, 4)\n",
    "plt.xlabel(r'$\\tilde{\\mathcal{E}}$')\n",
    "plt.ylabel(r'$\\log_{10}[(GMa)^{3/2} f]$')"
   ]
  },
  {
   "cell_type": "code",
   "execution_count": null,
   "metadata": {
    "collapsed": true
   },
   "outputs": [],
   "source": [
    "def _hernquist_df(E):    \n",
    "    A = (math.sqrt(2)*(2*math.pi)**3)**-1 * math.sqrt(E) / (1-E)**2\n",
    "    term1 = (1 - 2*E)*(8*E**2 - 8*E - 3)\n",
    "    term2 = 3*math.asin(math.sqrt(E)) / math.sqrt(E*(1-E))\n",
    "    \n",
    "    return A * (term1 + term2)\n",
    "\n",
    "def _potential(r):\n",
    "    return -1. / (r + 1.)\n",
    "\n",
    "def vel_dist(v, r):\n",
    "    E = 0.5*v**2 + _potential(r)\n",
    "    curly_E = -E\n",
    "    if curly_E <= 0. or curly_E >= 1.:\n",
    "        return 0.\n",
    "    return v**2 * _hernquist_df(curly_E)\n",
    "\n",
    "def ln_vel_dist(p, r):\n",
    "    v = p[0]\n",
    "    if v <= 0.:\n",
    "        return -np.inf\n",
    "    f = vel_dist(v, r)\n",
    "    if f == 0:\n",
    "        return -np.inf\n",
    "    return math.log(f)"
   ]
  },
  {
   "cell_type": "code",
   "execution_count": null,
   "metadata": {
    "collapsed": false
   },
   "outputs": [],
   "source": [
    "# _vs = np.linspace(0, 1., 1024)\n",
    "# plt.plot(vs, [ln_vel_dist([vv],r[144]) for vv in vs])\n",
    "# # plt.plot(_vs, [vel_dist(vv,r[144]) for vv in _vs])"
   ]
  },
  {
   "cell_type": "code",
   "execution_count": null,
   "metadata": {
    "collapsed": false
   },
   "outputs": [],
   "source": [
    "nwalkers = 32\n",
    "v = np.zeros_like(r)\n",
    "\n",
    "with warnings.catch_warnings():\n",
    "    warnings.filterwarnings('error')\n",
    "    \n",
    "    for i in range(N_orbits):\n",
    "        p0 = np.abs(np.random.normal(1E-3, 1E-3, (nwalkers,1)))\n",
    "        sampler = emcee.EnsembleSampler(nwalkers=nwalkers, dim=1, lnpostfn=ln_vel_dist, args=(r[i],))\n",
    "        \n",
    "        try:\n",
    "            _ = sampler.run_mcmc(p0, 128)\n",
    "        except Warning:\n",
    "            print(\"Failed!\", i)\n",
    "            break\n",
    "        v[i] = sampler.chain[0,-1,0]"
   ]
  },
  {
   "cell_type": "code",
   "execution_count": null,
   "metadata": {
    "collapsed": false
   },
   "outputs": [],
   "source": [
    "plt.hist(v, bins=np.linspace(0, 1.4, 20))\n",
    "plt.xlabel(\"$v$\")"
   ]
  },
  {
   "cell_type": "code",
   "execution_count": null,
   "metadata": {
    "collapsed": true
   },
   "outputs": [],
   "source": [
    "def r_v_to_3d(r, v):\n",
    "    phi = np.random.uniform(0, 2*np.pi, size=r.size)\n",
    "    theta = np.arccos(2*np.random.uniform(size=r.size) - 1)\n",
    "    sph = coord.PhysicsSphericalRepresentation(phi=phi*u.radian, theta=theta*u.radian, r=r*u.one)\n",
    "    xyz = sph.represent_as(coord.CartesianRepresentation).xyz\n",
    "    \n",
    "    phi_v = np.random.uniform(0, 2*np.pi, size=v.size)\n",
    "    theta_v = np.arccos(2*np.random.uniform(size=v.size) - 1)\n",
    "    v_sph = coord.PhysicsSphericalRepresentation(phi=phi_v*u.radian, theta=theta_v*u.radian, r=v*u.one)\n",
    "    v_xyz = v_sph.represent_as(coord.CartesianRepresentation).xyz\n",
    "    \n",
    "    return xyz, v_xyz"
   ]
  },
  {
   "cell_type": "code",
   "execution_count": null,
   "metadata": {
    "collapsed": false
   },
   "outputs": [],
   "source": [
    "xyz, vxyz = r_v_to_3d(r, v)"
   ]
  },
  {
   "cell_type": "code",
   "execution_count": null,
   "metadata": {
    "collapsed": true
   },
   "outputs": [],
   "source": [
    "w0 = gd.CartesianPhaseSpacePosition(pos=xyz, vel=vxyz)"
   ]
  },
  {
   "cell_type": "code",
   "execution_count": null,
   "metadata": {
    "collapsed": false
   },
   "outputs": [],
   "source": [
    "w.pos.shape"
   ]
  },
  {
   "cell_type": "code",
   "execution_count": null,
   "metadata": {
    "collapsed": false
   },
   "outputs": [],
   "source": [
    "t_cross = r / v\n",
    "ecc = np.zeros_like(t_cross)\n",
    "r_f = np.zeros_like(t_cross)\n",
    "\n",
    "for i in range(N_orbits):\n",
    "    w = pot.integrate_orbit(w0[i], dt=t_cross[i]/128., n_steps=4096)\n",
    "    ecc[i] = w.eccentricity()\n",
    "    r_f[i] = np.sqrt(np.sum(w.pos[:,-1]**2))"
   ]
  },
  {
   "cell_type": "code",
   "execution_count": null,
   "metadata": {
    "collapsed": false
   },
   "outputs": [],
   "source": [
    "plt.figure(figsize=(8,6))\n",
    "plt.hist(ecc[np.isfinite(ecc)], bins=np.linspace(0,1,32));\n",
    "plt.xlabel(\"Eccentricity\")\n",
    "plt.xlim(0,1)"
   ]
  },
  {
   "cell_type": "markdown",
   "metadata": {},
   "source": [
    "### Cool -- this seems to match Figure 6 of: http://arxiv.org/abs/astro-ph/9811229"
   ]
  },
  {
   "cell_type": "markdown",
   "metadata": {},
   "source": [
    "What does the radial profile look like after some amount of time?"
   ]
  },
  {
   "cell_type": "code",
   "execution_count": null,
   "metadata": {
    "collapsed": false
   },
   "outputs": [],
   "source": [
    "bins = np.logspace(-3, 3, 32)\n",
    "H,_ = np.histogram(r_f, bins=bins)\n",
    "\n",
    "V = 4/3*np.pi*(bins[1:]**3 - bins[:-1]**3)\n",
    "bin_cen = (bins[1:]+bins[:-1])/2.\n",
    "\n",
    "q = np.zeros((3,len(bin_cen)))\n",
    "q[0] = bin_cen\n",
    "plt.plot(bin_cen, pot.density(q) / pot.parameters['m'], marker=None, lw=2., ls='--')\n",
    "\n",
    "plt.loglog(bin_cen, H/V/r.size, marker=None)\n",
    "\n",
    "plt.xlabel('$r$')\n",
    "plt.ylabel('$n(r)$')"
   ]
  },
  {
   "cell_type": "markdown",
   "metadata": {},
   "source": [
    "The density profile is preserved! Cool."
   ]
  },
  {
   "cell_type": "code",
   "execution_count": null,
   "metadata": {
    "collapsed": true
   },
   "outputs": [],
   "source": []
  }
 ],
 "metadata": {
  "anaconda-cloud": {},
  "kernelspec": {
   "display_name": "Python [default]",
   "language": "python",
   "name": "python3"
  },
  "language_info": {
   "codemirror_mode": {
    "name": "ipython",
    "version": 3
   },
   "file_extension": ".py",
   "mimetype": "text/x-python",
   "name": "python",
   "nbconvert_exporter": "python",
   "pygments_lexer": "ipython3",
   "version": "3.5.2"
  }
 },
 "nbformat": 4,
 "nbformat_minor": 0
}