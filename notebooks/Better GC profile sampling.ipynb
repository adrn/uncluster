{
 "cells": [
  {
   "cell_type": "code",
   "execution_count": null,
   "metadata": {
    "collapsed": true
   },
   "outputs": [],
   "source": [
    "# Third-party\n",
    "import astropy.coordinates as coord\n",
    "import astropy.units as u\n",
    "import matplotlib as mpl\n",
    "import matplotlib.pyplot as plt\n",
    "import numpy as np\n",
    "plt.style.use('apw-notebook')\n",
    "%matplotlib inline\n",
    "import h5py\n",
    "\n",
    "# Custom\n",
    "import gala.coordinates as gc\n",
    "import gala.dynamics as gd\n",
    "import gala.integrate as gi\n",
    "import gala.potential as gp\n",
    "from gala.units import galactic\n",
    "\n",
    "from uncluster.config import t_max\n",
    "from uncluster.potential import mw_potential\n",
    "from uncluster.cluster_massloss import solve_mass_evolution\n",
    "from uncluster.utils import quantity_from_hdf5"
   ]
  },
  {
   "cell_type": "code",
   "execution_count": null,
   "metadata": {
    "collapsed": false
   },
   "outputs": [],
   "source": [
    "# Load the initial conditions\n",
    "with h5py.File('../cache/sph_iso.hdf5', 'a') as root:\n",
    "    f = root['progenitors/initial']\n",
    "\n",
    "    gc_masses = quantity_from_hdf5(f['mass'])\n",
    "    gc_w0 = gd.CartesianPhaseSpacePosition(pos=quantity_from_hdf5(f['pos']),\n",
    "                                           vel=quantity_from_hdf5(f['vel']))\n",
    "    n_clusters = len(gc_masses)"
   ]
  },
  {
   "cell_type": "code",
   "execution_count": null,
   "metadata": {
    "collapsed": true
   },
   "outputs": [],
   "source": [
    "H = gp.Hamiltonian(mw_potential)"
   ]
  },
  {
   "cell_type": "code",
   "execution_count": null,
   "metadata": {
    "collapsed": false
   },
   "outputs": [],
   "source": [
    "idx = 8\n",
    "\n",
    "w0 = gc_w0[idx]\n",
    "initial_mass = gc_masses[idx]\n",
    "print(\"r={:.2f}, m0={:.2e}\".format(w0.spherical[0].r[0], initial_mass))\n",
    "\n",
    "gc_orbit = H.integrate_orbit(w0, n_steps=16384, # MAGIC NUMBER\n",
    "                             t1=t_max, t2=0.,\n",
    "                             Integrator=gi.DOPRI853Integrator)"
   ]
  },
  {
   "cell_type": "code",
   "execution_count": null,
   "metadata": {
    "collapsed": false
   },
   "outputs": [],
   "source": [
    "_ = gc_orbit.plot(marker='')"
   ]
  },
  {
   "cell_type": "code",
   "execution_count": null,
   "metadata": {
    "collapsed": true
   },
   "outputs": [],
   "source": [
    "# solve for the mass-loss history of the cluster over the integration grid\n",
    "t_grid = gc_orbit.t\n",
    "r_grid = gc_orbit.r\n",
    "\n",
    "# solve dM/dt to get mass-loss history\n",
    "disrupt_idx, mass_grid = solve_mass_evolution(initial_mass.to(u.Msun).value,\n",
    "                                              t_grid.to(u.Gyr).value,\n",
    "                                              r_grid.to(u.kpc).value)"
   ]
  },
  {
   "cell_type": "code",
   "execution_count": null,
   "metadata": {
    "collapsed": false
   },
   "outputs": [],
   "source": [
    "plt.plot(t_grid, mass_grid, marker='')"
   ]
  },
  {
   "cell_type": "code",
   "execution_count": null,
   "metadata": {
    "collapsed": true
   },
   "outputs": [],
   "source": []
  }
 ],
 "metadata": {
  "kernelspec": {
   "display_name": "Python [conda env:uncluster]",
   "language": "python",
   "name": "conda-env-uncluster-py"
  },
  "language_info": {
   "codemirror_mode": {
    "name": "ipython",
    "version": 3
   },
   "file_extension": ".py",
   "mimetype": "text/x-python",
   "name": "python",
   "nbconvert_exporter": "python",
   "pygments_lexer": "ipython3",
   "version": "3.5.2"
  }
 },
 "nbformat": 4,
 "nbformat_minor": 2
}