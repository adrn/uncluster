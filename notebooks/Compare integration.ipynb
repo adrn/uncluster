{
 "cells": [
  {
   "cell_type": "code",
   "execution_count": null,
   "metadata": {
    "collapsed": true
   },
   "outputs": [],
   "source": [
    "import astropy.units as u\n",
    "import numpy as np\n",
    "import matplotlib.pyplot as plt\n",
    "plt.style.use('apw-notebook')\n",
    "%matplotlib inline\n",
    "\n",
    "import gala.dynamics as gd\n",
    "import gala.potential as gp\n",
    "import gala.integrate as gi\n",
    "from gala.units import galactic\n",
    "from gala.dynamics import mockstream\n",
    "\n",
    "from uncluster.potential import mw_potential"
   ]
  },
  {
   "cell_type": "code",
   "execution_count": null,
   "metadata": {
    "collapsed": false
   },
   "outputs": [],
   "source": [
    "mw_potential._gradient(np.array([[1.,2.,3.]]), np.array([0.]))"
   ]
  },
  {
   "cell_type": "code",
   "execution_count": null,
   "metadata": {
    "collapsed": false
   },
   "outputs": [],
   "source": [
    "static_mw_potential = gp.CCompositePotential()\n",
    "\n",
    "static_mw_potential['halo'] = gp.NFWPotential(m=mw_potential['halo'].parameters['m0'], \n",
    "                                              r_s=mw_potential['halo'].parameters['r_s'], \n",
    "                                              units=galactic)\n",
    "\n",
    "for key in mw_potential.keys():\n",
    "    if key == 'halo': continue\n",
    "    \n",
    "    Class = mw_potential[key].__class__.__name__.lstrip('Growing')\n",
    "    \n",
    "    pars = dict()\n",
    "    for key2 in mw_potential[key].parameters.keys():\n",
    "        pars[key2.rstrip('0')] = mw_potential[key].parameters[key2]\n",
    "        \n",
    "    static_mw_potential[key] = getattr(gp, Class)(**pars, units=galactic)"
   ]
  },
  {
   "cell_type": "code",
   "execution_count": null,
   "metadata": {
    "collapsed": false
   },
   "outputs": [],
   "source": [
    "derp = np.random.random(size=(3,10))"
   ]
  },
  {
   "cell_type": "code",
   "execution_count": null,
   "metadata": {
    "collapsed": false
   },
   "outputs": [],
   "source": [
    "%%timeit \n",
    "for i in range(100):\n",
    "    mw_potential._gradient(derp, np.array([0.]))"
   ]
  },
  {
   "cell_type": "code",
   "execution_count": null,
   "metadata": {
    "collapsed": false
   },
   "outputs": [],
   "source": [
    "%%timeit \n",
    "for i in range(100):\n",
    "    static_mw_potential._gradient(derp, np.array([0.]))"
   ]
  },
  {
   "cell_type": "code",
   "execution_count": null,
   "metadata": {
    "collapsed": false
   },
   "outputs": [],
   "source": [
    "m_h = pot1.parameters['m0']\n",
    "r_s = pot1.parameters['r_s']\n",
    "rr = 15.*u.kpc\n",
    "m_h * (np.log(1+rr/r_s) - (rr/r_s)/(1 + rr/r_s))"
   ]
  },
  {
   "cell_type": "code",
   "execution_count": null,
   "metadata": {
    "collapsed": false
   },
   "outputs": [],
   "source": [
    "xyz = [15.,0,0]*u.kpc\n",
    "pot1.mass_enclosed(xyz), pot2.mass_enclosed(xyz)"
   ]
  },
  {
   "cell_type": "code",
   "execution_count": null,
   "metadata": {
    "collapsed": false
   },
   "outputs": [],
   "source": [
    "xyz = np.zeros((3,256))\n",
    "xyz[0] = pot1.parameters['r_s'].to(u.kpc).value\n",
    "ts = np.linspace(0, -11.6, xyz.shape[1]) * u.Gyr\n",
    "plt.plot(ts, pot1.mass_enclosed(xyz, t=ts))"
   ]
  },
  {
   "cell_type": "code",
   "execution_count": null,
   "metadata": {
    "collapsed": false
   },
   "outputs": [],
   "source": [
    "orbit = pot1.integrate_orbit([15.,0,0,0,0.15,0], dt=1., n_steps=11000, t1=-11.*u.Gyr, Integrator=gi.DOPRI853Integrator)\n",
    "_ = orbit.plot()"
   ]
  },
  {
   "cell_type": "code",
   "execution_count": null,
   "metadata": {
    "collapsed": false
   },
   "outputs": [],
   "source": [
    "orbit = pot2.integrate_orbit([15.,0,0,0,0.15,0], dt=1., n_steps=11000, t1=-11.*u.Gyr, Integrator=gi.DOPRI853Integrator)\n",
    "_ = orbit.plot()"
   ]
  },
  {
   "cell_type": "code",
   "execution_count": null,
   "metadata": {
    "collapsed": false
   },
   "outputs": [],
   "source": [
    "%timeit pot1.integrate_orbit([15.,0,0,0,0.15,0], dt=1., n_steps=11000, t1=-11.*u.Gyr, Integrator=gi.DOPRI853Integrator)\n",
    "%timeit pot2.integrate_orbit([15.,0,0,0,0.15,0], dt=1., n_steps=11000, t1=-11.*u.Gyr, Integrator=gi.DOPRI853Integrator)"
   ]
  },
  {
   "cell_type": "code",
   "execution_count": null,
   "metadata": {
    "collapsed": false
   },
   "outputs": [],
   "source": [
    "%%timeit \n",
    "mw_potential.integrate_orbit([15.,0,0,0,0.15,0], dt=1., n_steps=11000, \n",
    "                             t1=-11.*u.Gyr, Integrator=gi.DOPRI853Integrator)"
   ]
  },
  {
   "cell_type": "markdown",
   "metadata": {},
   "source": [
    "## Growing potential:"
   ]
  },
  {
   "cell_type": "code",
   "execution_count": null,
   "metadata": {
    "collapsed": false
   },
   "outputs": [],
   "source": [
    "H = gp.Hamiltonian(mw_potential)\n",
    "orbit = H.integrate_orbit([35.,0,0,0,0.05,0], dt=1., n_steps=11000, \n",
    "                          t1=-11.*u.Gyr, Integrator=gi.DOPRI853Integrator)\n",
    "_ = orbit.plot()"
   ]
  },
  {
   "cell_type": "code",
   "execution_count": null,
   "metadata": {
    "collapsed": false
   },
   "outputs": [],
   "source": [
    "%%time\n",
    "stream = mockstream.fardal_stream(H, orbit, 2E5*u.Msun, release_every=16)"
   ]
  },
  {
   "cell_type": "code",
   "execution_count": null,
   "metadata": {
    "collapsed": false
   },
   "outputs": [],
   "source": [
    "_ = stream.plot()"
   ]
  },
  {
   "cell_type": "markdown",
   "metadata": {
    "collapsed": true
   },
   "source": [
    "## Static potential:"
   ]
  },
  {
   "cell_type": "code",
   "execution_count": null,
   "metadata": {
    "collapsed": false
   },
   "outputs": [],
   "source": [
    "H2 = gp.Hamiltonian(static_mw_potential)\n",
    "orbit2 = H2.integrate_orbit([35.,0,0,0,0.05,0], dt=1., n_steps=11000, \n",
    "                           t1=-11.*u.Gyr, Integrator=gi.DOPRI853Integrator)\n",
    "_ = orbit2.plot()"
   ]
  },
  {
   "cell_type": "code",
   "execution_count": null,
   "metadata": {
    "collapsed": false
   },
   "outputs": [],
   "source": [
    "%%time\n",
    "stream2 = mockstream.fardal_stream(H2, orbit2, 2E5*u.Msun, release_every=16)"
   ]
  },
  {
   "cell_type": "code",
   "execution_count": null,
   "metadata": {
    "collapsed": false
   },
   "outputs": [],
   "source": [
    "_ = stream2.plot()"
   ]
  },
  {
   "cell_type": "markdown",
   "metadata": {},
   "source": [
    "---"
   ]
  },
  {
   "cell_type": "code",
   "execution_count": null,
   "metadata": {
    "collapsed": true
   },
   "outputs": [],
   "source": [
    "import h5py\n",
    "from uncluster.utils import quantity_from_hdf5\n",
    "from uncluster.config import t_max"
   ]
  },
  {
   "cell_type": "code",
   "execution_count": null,
   "metadata": {
    "collapsed": false
   },
   "outputs": [],
   "source": [
    "with h5py.File(\"../cache/sph_iso.hdf5\") as f:\n",
    "    pos = quantity_from_hdf5(f['progenitors/initial/pos'])[:,69]\n",
    "    vel = quantity_from_hdf5(f['progenitors/initial/vel'])[:,69]\n",
    "w0 = gd.CartesianPhaseSpacePosition(pos=pos, vel=vel)"
   ]
  },
  {
   "cell_type": "code",
   "execution_count": null,
   "metadata": {
    "collapsed": false
   },
   "outputs": [],
   "source": [
    "H1 = gp.Hamiltonian(mw_potential)\n",
    "orbit1 = H1.integrate_orbit(w0, t1=t_max, t2=0., n_steps=8192, Integrator=gi.DOPRI853Integrator)\n",
    "_ = orbit1.plot()"
   ]
  },
  {
   "cell_type": "code",
   "execution_count": null,
   "metadata": {
    "collapsed": false
   },
   "outputs": [],
   "source": [
    "H2 = gp.Hamiltonian(static_mw_potential)\n",
    "orbit2 = H2.integrate_orbit(w0, t1=t_max, t2=0., n_steps=8192, Integrator=gi.DOPRI853Integrator)\n",
    "_ = orbit2.plot()"
   ]
  },
  {
   "cell_type": "code",
   "execution_count": null,
   "metadata": {
    "collapsed": false
   },
   "outputs": [],
   "source": [
    "%%time\n",
    "stream1 = mockstream.fardal_stream(H1, orbit1, 5E5*u.Msun,\n",
    "                                   release_every=64,\n",
    "                                   Integrator=gi.DOPRI853Integrator)"
   ]
  },
  {
   "cell_type": "code",
   "execution_count": null,
   "metadata": {
    "collapsed": false
   },
   "outputs": [],
   "source": [
    "%%time\n",
    "stream2 = mockstream.fardal_stream(H2, orbit2, 5E5*u.Msun,\n",
    "                                   release_every=64,\n",
    "                                   Integrator=gi.DOPRI853Integrator)"
   ]
  },
  {
   "cell_type": "code",
   "execution_count": null,
   "metadata": {
    "collapsed": false
   },
   "outputs": [],
   "source": [
    "_ = stream2.plot()"
   ]
  },
  {
   "cell_type": "code",
   "execution_count": null,
   "metadata": {
    "collapsed": true
   },
   "outputs": [],
   "source": []
  }
 ],
 "metadata": {
  "anaconda-cloud": {},
  "kernelspec": {
   "display_name": "Python [conda env:uncluster]",
   "language": "python",
   "name": "conda-env-uncluster-py"
  },
  "language_info": {
   "codemirror_mode": {
    "name": "ipython",
    "version": 3
   },
   "file_extension": ".py",
   "mimetype": "text/x-python",
   "name": "python",
   "nbconvert_exporter": "python",
   "pygments_lexer": "ipython3",
   "version": "3.5.2"
  }
 },
 "nbformat": 4,
 "nbformat_minor": 1
}