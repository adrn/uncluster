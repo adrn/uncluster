{
 "cells": [
  {
   "cell_type": "code",
   "execution_count": null,
   "metadata": {
    "collapsed": false
   },
   "outputs": [],
   "source": [
    "import warnings\n",
    "import math\n",
    "\n",
    "import astropy.units as u\n",
    "import astropy.coordinates as coord\n",
    "from astropy.constants import G as _G\n",
    "import emcee\n",
    "import numpy as np\n",
    "import gala.dynamics as gd\n",
    "import gala.potential as gp\n",
    "from gala.units import galactic\n",
    "import matplotlib.pyplot as plt\n",
    "plt.style.use('apw-notebook')\n",
    "%matplotlib inline\n",
    "\n",
    "from scipy.misc import derivative\n",
    "from scipy.integrate import quad\n",
    "from scipy.interpolate import interp1d\n",
    "from scipy.optimize import root"
   ]
  },
  {
   "cell_type": "code",
   "execution_count": null,
   "metadata": {
    "collapsed": true
   },
   "outputs": [],
   "source": [
    "G = _G.decompose(galactic).value"
   ]
  },
  {
   "cell_type": "code",
   "execution_count": null,
   "metadata": {
    "collapsed": false
   },
   "outputs": [],
   "source": [
    "# NFW background potential\n",
    "a = 20. # kpc\n",
    "vc_nfw = 0.2 # kpc/Myr\n",
    "_nfw = gp.SphericalNFWPotential(v_c=vc_nfw, r_s=a, units=galactic)\n",
    "\n",
    "# Hernquist density profile\n",
    "m_h = 1E11 # Msun\n",
    "c = 15. # kpc\n",
    "_hernquist = gp.HernquistPotential(m=m_h, c=c, units=galactic)"
   ]
  },
  {
   "cell_type": "code",
   "execution_count": null,
   "metadata": {
    "collapsed": false
   },
   "outputs": [],
   "source": [
    "def nfw_potential(r):\n",
    "    return _nfw._value(np.array([r,0.,0.]))\n",
    "\n",
    "def nfw_r(phi):\n",
    "    res = root(lambda r: nfw_potential(r[0]) - phi, 10.)\n",
    "    if res.success:\n",
    "        return res.x[0]\n",
    "    else:\n",
    "        return np.nan\n",
    "nfw_r(-0.12)"
   ]
  },
  {
   "cell_type": "code",
   "execution_count": null,
   "metadata": {
    "collapsed": false
   },
   "outputs": [],
   "source": [
    "def hernquist_density(phi):\n",
    "    r = nfw_r(phi)\n",
    "    rho0 = m_h / (2*np.pi*c**3)\n",
    "    return rho0 / ((r/c) * (1+r/c)**3)\n",
    "hernquist_density(-0.12)"
   ]
  },
  {
   "cell_type": "code",
   "execution_count": null,
   "metadata": {
    "collapsed": false
   },
   "outputs": [],
   "source": [
    "phi = -0.012\n",
    "derivative(hernquist_density, phi, dx=1E-3*phi)"
   ]
  },
  {
   "cell_type": "code",
   "execution_count": null,
   "metadata": {
    "collapsed": true
   },
   "outputs": [],
   "source": [
    "def integrand(phi, H):\n",
    "    dp_dphi = derivative(hernquist_density, phi, dx=1E-3*phi)\n",
    "    return dp_dphi / np.sqrt(phi - H)"
   ]
  },
  {
   "cell_type": "code",
   "execution_count": null,
   "metadata": {
    "collapsed": false
   },
   "outputs": [],
   "source": [
    "some_E = -0.01\n",
    "derivative(lambda H: quad(integrand, H, 0, args=(H,))[0], some_E, dx=np.abs(1E-4*some_E))"
   ]
  },
  {
   "cell_type": "code",
   "execution_count": null,
   "metadata": {
    "collapsed": false
   },
   "outputs": [],
   "source": [
    "n_df = 256\n",
    "curlyE = np.linspace(1E-2,5.1,n_df)\n",
    "energy_grid = -curlyE * vc_nfw**2\n",
    "\n",
    "df = np.zeros(n_df)\n",
    "for i,energy in enumerate(energy_grid):\n",
    "    df[i] = derivative(lambda H: quad(integrand, H, 0, args=(H,))[0], energy, dx=np.abs(1E-4*energy))\n",
    "    \n",
    "log_df = np.log(df)"
   ]
  },
  {
   "cell_type": "code",
   "execution_count": null,
   "metadata": {
    "collapsed": false
   },
   "outputs": [],
   "source": [
    "plt.semilogy(curlyE, df)"
   ]
  },
  {
   "cell_type": "code",
   "execution_count": null,
   "metadata": {
    "collapsed": false
   },
   "outputs": [],
   "source": [
    "log_df_interp = interp1d(energy_grid[np.isfinite(log_df)], log_df[np.isfinite(log_df)], \n",
    "                         fill_value=\"extrapolate\")"
   ]
  },
  {
   "cell_type": "code",
   "execution_count": null,
   "metadata": {
    "collapsed": false
   },
   "outputs": [],
   "source": [
    "log_df_interp(-2.*G*m_h/a)"
   ]
  },
  {
   "cell_type": "markdown",
   "metadata": {},
   "source": [
    "## First, sample radii in a Hernquist profile"
   ]
  },
  {
   "cell_type": "code",
   "execution_count": null,
   "metadata": {
    "collapsed": false
   },
   "outputs": [],
   "source": [
    "def sample_radii(size=1, r_min=0.*u.kpc, r_max=np.inf*u.kpc):\n",
    "    r_min = r_min.to(u.kpc).value\n",
    "    r_max = r_max.to(u.kpc).value\n",
    "    \n",
    "    Menc = lambda r: _hernquist.c_instance.mass_enclosed(np.array([[r,0,0]]), G=_hernquist.G)[0]\n",
    "    Mtot = m_h\n",
    "    \n",
    "    def root_func(r, m):\n",
    "        return (m - Menc(float(r))/Mtot)\n",
    "    \n",
    "    if r_min == 0.:\n",
    "        m_min = 0.\n",
    "    else:\n",
    "        m_min = Menc(r_min)/Mtot\n",
    "        \n",
    "    if r_max == np.inf:\n",
    "        m_max = 1.\n",
    "    else:\n",
    "        m_max = Menc(r_max)/Mtot\n",
    "    \n",
    "    m = np.random.uniform(m_min, m_max, size=size)\n",
    "    return np.array([root(root_func, 1., args=(m[i],)).x[0] for i in range(size)])"
   ]
  },
  {
   "cell_type": "code",
   "execution_count": null,
   "metadata": {
    "collapsed": false
   },
   "outputs": [],
   "source": [
    "r = sample_radii(1024)\n",
    "xyz = np.zeros((3,r.size))\n",
    "xyz[0] = r"
   ]
  },
  {
   "cell_type": "markdown",
   "metadata": {},
   "source": [
    "### Make sure the sampled radii follow the correct profile"
   ]
  },
  {
   "cell_type": "code",
   "execution_count": null,
   "metadata": {
    "collapsed": false
   },
   "outputs": [],
   "source": [
    "bins = np.logspace(-1, 4, 32)\n",
    "H,_ = np.histogram(r, bins=bins)\n",
    "\n",
    "V = 4/3*np.pi*(bins[1:]**3 - bins[:-1]**3)\n",
    "bin_cen = (bins[1:]+bins[:-1])/2.\n",
    "\n",
    "q = np.zeros((3,len(bin_cen)))\n",
    "q[0] = bin_cen\n",
    "plt.plot(bin_cen, _hernquist.density(q) / m_h, marker=None, lw=2., ls='--')\n",
    "\n",
    "plt.loglog(bin_cen, H/V/r.size, marker=None)\n",
    "\n",
    "plt.xlabel('$r$')\n",
    "plt.ylabel('$n(r)$')"
   ]
  },
  {
   "cell_type": "markdown",
   "metadata": {
    "collapsed": true
   },
   "source": [
    "## now sample velocities from the DF..."
   ]
  },
  {
   "cell_type": "code",
   "execution_count": null,
   "metadata": {
    "collapsed": true
   },
   "outputs": [],
   "source": [
    "def ln_vel_dist(p, r):\n",
    "    v = p[0]\n",
    "    if v <= 0.:\n",
    "        return -np.inf\n",
    "    \n",
    "    E = 0.5*v**2 + nfw_potential(r)\n",
    "    log_f = log_df_interp(E) + 2*np.log(v)\n",
    "\n",
    "    return log_f"
   ]
  },
  {
   "cell_type": "code",
   "execution_count": null,
   "metadata": {
    "collapsed": false
   },
   "outputs": [],
   "source": [
    "nwalkers = 32\n",
    "v = np.zeros_like(r)\n",
    "\n",
    "with warnings.catch_warnings():\n",
    "    warnings.filterwarnings('error')\n",
    "    \n",
    "    for i in range(len(r)):\n",
    "        p0 = np.abs(np.random.normal(1E-3, 1E-4, (nwalkers,1))) # velocity!!\n",
    "        sampler = emcee.EnsembleSampler(nwalkers=nwalkers, dim=1, lnpostfn=ln_vel_dist, args=(r[i],))\n",
    "        \n",
    "        try:\n",
    "            _ = sampler.run_mcmc(p0, 128)\n",
    "        except Warning:\n",
    "            print(\"Failed!\", i)\n",
    "            break\n",
    "        v[i] = sampler.chain[0,-1,0]"
   ]
  },
  {
   "cell_type": "code",
   "execution_count": null,
   "metadata": {
    "collapsed": false
   },
   "outputs": [],
   "source": [
    "for link in sampler.chain:\n",
    "    plt.plot(link[:,0], drawstyle='steps', alpha=0.4, marker=None)"
   ]
  },
  {
   "cell_type": "code",
   "execution_count": null,
   "metadata": {
    "collapsed": false
   },
   "outputs": [],
   "source": [
    "plt.hist(v, bins=np.linspace(0, 0.3, 20))\n",
    "plt.xlabel(\"$v$\")"
   ]
  },
  {
   "cell_type": "code",
   "execution_count": null,
   "metadata": {
    "collapsed": true
   },
   "outputs": [],
   "source": [
    "def r_v_to_3d(r, v):\n",
    "    phi = np.random.uniform(0, 2*np.pi, size=r.size)\n",
    "    theta = np.arccos(2*np.random.uniform(size=r.size) - 1)\n",
    "    sph = coord.PhysicsSphericalRepresentation(phi=phi*u.radian, theta=theta*u.radian, r=r*u.one)\n",
    "    xyz = sph.represent_as(coord.CartesianRepresentation).xyz\n",
    "    \n",
    "    phi_v = np.random.uniform(0, 2*np.pi, size=v.size)\n",
    "    theta_v = np.arccos(2*np.random.uniform(size=v.size) - 1)\n",
    "    v_sph = coord.PhysicsSphericalRepresentation(phi=phi_v*u.radian, theta=theta_v*u.radian, r=v*u.one)\n",
    "    v_xyz = v_sph.represent_as(coord.CartesianRepresentation).xyz\n",
    "    \n",
    "    return xyz, v_xyz"
   ]
  },
  {
   "cell_type": "code",
   "execution_count": null,
   "metadata": {
    "collapsed": false
   },
   "outputs": [],
   "source": [
    "xyz, vxyz = r_v_to_3d(r, v)"
   ]
  },
  {
   "cell_type": "code",
   "execution_count": null,
   "metadata": {
    "collapsed": false
   },
   "outputs": [],
   "source": [
    "w0 = gd.CartesianPhaseSpacePosition(pos=xyz, vel=vxyz)"
   ]
  },
  {
   "cell_type": "code",
   "execution_count": null,
   "metadata": {
    "collapsed": false
   },
   "outputs": [],
   "source": [
    "t_cross = r / v\n",
    "ecc = np.zeros_like(t_cross)\n",
    "r_f = np.zeros_like(t_cross)\n",
    "\n",
    "for i in range(len(t_cross)):\n",
    "    w = _nfw.integrate_orbit(w0[i], dt=t_cross[i]/100., n_steps=2000)\n",
    "    ecc[i] = w.eccentricity()\n",
    "    r_f[i] = np.sqrt(np.sum(w.pos[:,-1]**2)).value"
   ]
  },
  {
   "cell_type": "code",
   "execution_count": null,
   "metadata": {
    "collapsed": false
   },
   "outputs": [],
   "source": [
    "plt.hist(ecc[np.isfinite(ecc)])"
   ]
  },
  {
   "cell_type": "markdown",
   "metadata": {},
   "source": [
    "## See what final radial distribution looks like"
   ]
  },
  {
   "cell_type": "code",
   "execution_count": null,
   "metadata": {
    "collapsed": false
   },
   "outputs": [],
   "source": [
    "bins = np.logspace(-1, 3, 32)\n",
    "H,_ = np.histogram(r_f, bins=bins)\n",
    "\n",
    "V = 4/3*np.pi*(bins[1:]**3 - bins[:-1]**3)\n",
    "bin_cen = (bins[1:]+bins[:-1])/2.\n",
    "\n",
    "q = np.zeros((3,len(bin_cen)))\n",
    "q[0] = bin_cen\n",
    "plt.plot(bin_cen, _hernquist.density(q) / m_h, marker=None, lw=2., ls='--')\n",
    "\n",
    "plt.loglog(bin_cen, H/V/r.size, marker=None)\n",
    "\n",
    "plt.xlabel('$r$')\n",
    "plt.ylabel('$n(r)$')"
   ]
  },
  {
   "cell_type": "code",
   "execution_count": null,
   "metadata": {
    "collapsed": true
   },
   "outputs": [],
   "source": []
  }
 ],
 "metadata": {
  "anaconda-cloud": {},
  "kernelspec": {
   "display_name": "Python [conda env:uncluster]",
   "language": "python",
   "name": "conda-env-uncluster-py"
  },
  "language_info": {
   "codemirror_mode": {
    "name": "ipython",
    "version": 3
   },
   "file_extension": ".py",
   "mimetype": "text/x-python",
   "name": "python",
   "nbconvert_exporter": "python",
   "pygments_lexer": "ipython3",
   "version": "3.5.2"
  }
 },
 "nbformat": 4,
 "nbformat_minor": 1
}