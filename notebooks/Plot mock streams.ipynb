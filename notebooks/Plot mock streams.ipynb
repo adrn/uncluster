{
 "cells": [
  {
   "cell_type": "code",
   "execution_count": null,
   "metadata": {
    "collapsed": false
   },
   "outputs": [],
   "source": [
    "from __future__ import division, print_function\n",
    "\n",
    "# Third-party\n",
    "import astropy.units as u\n",
    "import matplotlib.pyplot as plt\n",
    "import numpy as np\n",
    "plt.style.use('apw-notebook')\n",
    "%matplotlib inline\n",
    "import h5py\n",
    "\n",
    "# Custom\n",
    "import gala.coordinates as gc\n",
    "import gala.dynamics as gd\n",
    "import gala.integrate as gi\n",
    "import gala.potential as gp\n",
    "from gala.units import galactic\n",
    "\n",
    "from uncluster.utils import quantity_from_hdf5"
   ]
  },
  {
   "cell_type": "code",
   "execution_count": null,
   "metadata": {
    "collapsed": false
   },
   "outputs": [],
   "source": [
    "all_streams = []\n",
    "all_weights = []\n",
    "with h5py.File(\"../cache/sph_iso.hdf5\", \"r\") as f:    \n",
    "    for key in f['streams']:\n",
    "        pos = quantity_from_hdf5(f['streams'][key]['pos'])\n",
    "        vel = quantity_from_hdf5(f['streams'][key]['vel'])\n",
    "        \n",
    "        if pos.shape[1] > 0: # and np.max(np.sqrt(np.sum(pos**2, axis=0))) > 10*u.kpc:\n",
    "            all_streams.append(gd.CartesianPhaseSpacePosition(pos=pos, vel=vel))\n",
    "            all_weights.append(f['streams'][key]['weights'][:].sum())\n",
    "            \n",
    "        if len(all_streams) == 1024:\n",
    "            break\n",
    "            \n",
    "len(all_streams)"
   ]
  },
  {
   "cell_type": "code",
   "execution_count": null,
   "metadata": {
    "collapsed": false
   },
   "outputs": [],
   "source": [
    "fig,axes = plt.subplots(2, 2, figsize=(10,10), sharex=True, sharey=True)\n",
    "\n",
    "style = dict(linestyle='none', alpha=0.05, color='k', marker=',')\n",
    "\n",
    "for stream in all_streams:\n",
    "    axes[0,0].plot(stream.pos[0], stream.pos[1], **style)\n",
    "    axes[1,0].plot(stream.pos[0], stream.pos[2], **style)\n",
    "    axes[1,1].plot(stream.pos[1], stream.pos[2], **style)\n",
    "\n",
    "axes[0,0].set_xlim(-45, 45)\n",
    "axes[0,0].set_ylim(-45, 45)\n",
    "\n",
    "axes[0,0].set_ylabel('$y$ [kpc]')\n",
    "axes[1,0].set_ylabel('$z$ [kpc]')\n",
    "axes[1,0].set_xlabel('$x$ [kpc]')\n",
    "axes[1,1].set_xlabel('$y$ [kpc]')\n",
    "\n",
    "fig.tight_layout()\n",
    "\n",
    "axes[0,1].set_visible(False)"
   ]
  },
  {
   "cell_type": "markdown",
   "metadata": {
    "collapsed": true
   },
   "source": [
    "## Plot a mass profile"
   ]
  },
  {
   "cell_type": "code",
   "execution_count": null,
   "metadata": {
    "collapsed": false
   },
   "outputs": [],
   "source": [
    "bins = np.logspace(-1., np.log10(300), 33) # 0.1 to 300 kpc\n",
    "all_H = np.zeros(bins.size-1)\n",
    "\n",
    "with h5py.File(\"../cache/sph_iso.hdf5\", \"r\") as f:\n",
    "    count = 0\n",
    "    for key in f['streams']:\n",
    "        if int(key) % 1000 == 0:\n",
    "            print(key)\n",
    "        count += 1\n",
    "        pos = f['streams'][key]['pos'][:]\n",
    "        if pos.shape[1] > 0:\n",
    "            r = np.sqrt(np.sum(pos**2, axis=0))\n",
    "            w = f['streams'][key]['weights'][:]\n",
    "            H,_ = np.histogram(r, bins=bins, weights=w)\n",
    "            all_H += H\n",
    "\n",
    "V = 4/3*np.pi*(bins[1:]**3 - bins[:-1]**3)\n",
    "bin_cen = (bins[1:]+bins[:-1])/2."
   ]
  },
  {
   "cell_type": "code",
   "execution_count": null,
   "metadata": {
    "collapsed": false
   },
   "outputs": [],
   "source": [
    "count"
   ]
  },
  {
   "cell_type": "code",
   "execution_count": null,
   "metadata": {
    "collapsed": false
   },
   "outputs": [],
   "source": [
    "fig,axes = plt.subplots(1, 2, figsize=(12,6), sharex=True)\n",
    "\n",
    "style = dict(ls='-', marker='', lw=1.5)\n",
    "axes[0].loglog(bin_cen, all_H/V, **style)\n",
    "axes[1].loglog(bin_cen, np.cumsum(all_H), **style)\n",
    "\n",
    "# r_grid1 = np.logspace(-1, 2.5, 256)\n",
    "# axes[0].loglog(r_grid1, 1E7*r_grid1**-2, marker='', \n",
    "#                label='$r^{-2}$', linestyle='--', alpha=0.6)\n",
    "\n",
    "r_grid2 = np.logspace(1., 2.5, 256)\n",
    "axes[0].loglog(r_grid2, 1E8*r_grid2**-3.5, marker='', \n",
    "               label='$r^{-3.5}$', linestyle='--', alpha=0.6)\n",
    "axes[0].legend(loc='upper right', fontsize=18)\n",
    "\n",
    "axes[0].set_xlim(0.1, 350)\n",
    "axes[0].set_ylim(1E-3, 1E9)\n",
    "\n",
    "axes[0].set_xlabel('$r$ [kpc]')\n",
    "axes[1].set_xlabel('$r$ [kpc]')\n",
    "\n",
    "axes[0].set_ylabel(r'$\\rho(r)$ [kpc]')\n",
    "axes[1].set_ylabel(r'$M(<r)$ [kpc]')\n",
    "\n",
    "fig.tight_layout()"
   ]
  },
  {
   "cell_type": "markdown",
   "metadata": {},
   "source": [
    "## Projected surface brightness"
   ]
  },
  {
   "cell_type": "code",
   "execution_count": null,
   "metadata": {
    "collapsed": false
   },
   "outputs": [],
   "source": [
    "bins = np.linspace(-250, 250, 512+1)\n",
    "H = np.zeros((bins.size-1, bins.size-1))\n",
    "\n",
    "with h5py.File(\"../cache/sph_iso.hdf5\", \"r\") as f:\n",
    "    for key in f['streams']:\n",
    "        if int(key) % 1000 == 0:\n",
    "            print(key)\n",
    "            \n",
    "        pos = f['streams'][key]['pos'][:]\n",
    "        if pos.shape[1] > 0:\n",
    "            w = f['streams'][key]['weights'][:]\n",
    "            H += np.histogram2d(pos[0], pos[1], bins=(bins,bins), weights=w)[0]"
   ]
  },
  {
   "cell_type": "code",
   "execution_count": null,
   "metadata": {
    "collapsed": true
   },
   "outputs": [],
   "source": [
    "import matplotlib.colors as col"
   ]
  },
  {
   "cell_type": "code",
   "execution_count": null,
   "metadata": {
    "collapsed": false
   },
   "outputs": [],
   "source": [
    "X,Y = np.meshgrid(bins, bins)\n",
    "\n",
    "plt.figure(figsize=(10,10))\n",
    "plt.pcolormesh(X, Y, H+1E-7, norm=col.LogNorm(),\n",
    "               cmap='hesperia', vmin=1E0, vmax=1E5)\n",
    "plt.xlim(-100,100)\n",
    "plt.ylim(-100,100)"
   ]
  },
  {
   "cell_type": "markdown",
   "metadata": {},
   "source": [
    "## From the \"sun\" (only 1/10 of the sample)"
   ]
  },
  {
   "cell_type": "code",
   "execution_count": null,
   "metadata": {
    "collapsed": true
   },
   "outputs": [],
   "source": [
    "import astropy.coordinates as coord"
   ]
  },
  {
   "cell_type": "code",
   "execution_count": null,
   "metadata": {
    "collapsed": false
   },
   "outputs": [],
   "source": [
    "cmap = plt.get_cmap('laguna')\n",
    "norm = col.Normalize(vmin=1., vmax=100.)"
   ]
  },
  {
   "cell_type": "code",
   "execution_count": null,
   "metadata": {
    "collapsed": false
   },
   "outputs": [],
   "source": [
    "fig,ax = plt.subplots(1, 1, figsize=(10,7))\n",
    "\n",
    "style = dict(linestyle='none', alpha=0.05, color='k', marker=',')\n",
    "for stream in all_streams:\n",
    "    stream_c,_ = stream.to_coord_frame(coord.Galactic)\n",
    "    style['color'] = cmap(norm(np.mean(stream_c.distance.kpc)))\n",
    "    ax.plot(stream_c.l.degree, stream_c.b.degree, **style)\n",
    "\n",
    "fig.tight_layout()"
   ]
  },
  {
   "cell_type": "markdown",
   "metadata": {},
   "source": [
    "## Final mass, radius distribution"
   ]
  },
  {
   "cell_type": "code",
   "execution_count": null,
   "metadata": {
    "collapsed": false
   },
   "outputs": [],
   "source": [
    "with h5py.File(\"../cache/sph_iso.hdf5\", \"r\") as f:    \n",
    "    n_tot = len(f['progenitors/initial/mass'])\n",
    "    \n",
    "    final_mass = np.zeros(n_tot)\n",
    "    final_r = []\n",
    "    for i in range(n_tot):\n",
    "        if str(i) not in f['streams']: continue\n",
    "        final_mass[i] = f['streams/{}/final/mass'.format(i)].value\n",
    "        \n",
    "        if final_mass[i] > 5E3:\n",
    "            _r = np.sqrt(np.sum(quantity_from_hdf5(f['streams/{}/final/pos'.format(i)])**2, axis=0))\n",
    "            final_r.append(_r)"
   ]
  },
  {
   "cell_type": "code",
   "execution_count": null,
   "metadata": {
    "collapsed": false
   },
   "outputs": [],
   "source": [
    "len(final_r)"
   ]
  },
  {
   "cell_type": "code",
   "execution_count": null,
   "metadata": {
    "collapsed": false
   },
   "outputs": [],
   "source": [
    "bins = np.logspace(-1.,2.1,10)\n",
    "V = 4/3*np.pi*(bins[1:]**3 - bins[:-1]**3)\n",
    "bin_cen = (bins[1:]+bins[:-1])/2.\n",
    "all_H,_ = np.histogram(final_r, bins=bins)"
   ]
  },
  {
   "cell_type": "code",
   "execution_count": null,
   "metadata": {
    "collapsed": false
   },
   "outputs": [],
   "source": [
    "fig,axes = plt.subplots(1, 2, figsize=(12,6))\n",
    "\n",
    "axes[0].hist(final_mass, bins=np.logspace(2.5, 7.5, 16))\n",
    "axes[0].set_xscale('log')\n",
    "axes[0].set_yscale('log')\n",
    "axes[0].set_xlim(1E3, 3E7)\n",
    "axes[0].set_ylim(0.5, 1E4)\n",
    "\n",
    "axes[1].loglog(bin_cen, all_H/V, marker='')\n",
    "axes[1].set_xlim(1E-1, 1E2)\n",
    "axes[1].set_ylim(1E-7, 1E2)"
   ]
  },
  {
   "cell_type": "markdown",
   "metadata": {
    "collapsed": true
   },
   "source": [
    "# Pretty"
   ]
  },
  {
   "cell_type": "code",
   "execution_count": null,
   "metadata": {
    "collapsed": true
   },
   "outputs": [],
   "source": [
    "import matplotlib.colors as col\n",
    "import matplotlib as mpl"
   ]
  },
  {
   "cell_type": "code",
   "execution_count": null,
   "metadata": {
    "collapsed": false
   },
   "outputs": [],
   "source": [
    "cmap = plt.get_cmap('laguna')\n",
    "# cmap = plt.get_cmap('viridis')"
   ]
  },
  {
   "cell_type": "code",
   "execution_count": null,
   "metadata": {
    "collapsed": false
   },
   "outputs": [],
   "source": [
    "norm = col.LogNorm(vmin=5E3, vmax=1E5)"
   ]
  },
  {
   "cell_type": "code",
   "execution_count": null,
   "metadata": {
    "collapsed": false
   },
   "outputs": [],
   "source": [
    "plt.hist(all_weights, bins=np.logspace(3,7,16))\n",
    "plt.xscale('log')"
   ]
  },
  {
   "cell_type": "code",
   "execution_count": null,
   "metadata": {
    "collapsed": false
   },
   "outputs": [],
   "source": [
    "fig,ax = plt.subplots(1, 1, figsize=(10,10))\n",
    "\n",
    "style = dict(linestyle='none', alpha=0.25, marker=',')\n",
    "\n",
    "for stream,w in zip(all_streams,all_weights):\n",
    "    ax.plot(stream.pos[0], stream.pos[1], color=cmap(norm(w)), **style)\n",
    "\n",
    "ax.set_xlim(-45, 45)\n",
    "ax.set_ylim(-45, 45)\n",
    "\n",
    "fig.tight_layout()\n",
    "\n",
    "ax.xaxis.set_visible(False)\n",
    "ax.yaxis.set_visible(False)\n",
    "fig.set_facecolor('k')\n",
    "ax.set_axis_bgcolor('k')"
   ]
  },
  {
   "cell_type": "code",
   "execution_count": null,
   "metadata": {
    "collapsed": true
   },
   "outputs": [],
   "source": []
  },
  {
   "cell_type": "code",
   "execution_count": null,
   "metadata": {
    "collapsed": true
   },
   "outputs": [],
   "source": []
  }
 ],
 "metadata": {
  "anaconda-cloud": {},
  "kernelspec": {
   "display_name": "Python [conda env:uncluster]",
   "language": "python",
   "name": "conda-env-uncluster-py"
  },
  "language_info": {
   "codemirror_mode": {
    "name": "ipython",
    "version": 3
   },
   "file_extension": ".py",
   "mimetype": "text/x-python",
   "name": "python",
   "nbconvert_exporter": "python",
   "pygments_lexer": "ipython3",
   "version": "3.5.2"
  }
 },
 "nbformat": 4,
 "nbformat_minor": 1
}