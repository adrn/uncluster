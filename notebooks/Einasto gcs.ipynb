{
 "cells": [
  {
   "cell_type": "code",
   "execution_count": null,
   "metadata": {
    "collapsed": true
   },
   "outputs": [],
   "source": [
    "import numpy as np\n",
    "import matplotlib.pyplot as plt\n",
    "plt.style.use('apw-notebook')\n",
    "%matplotlib inline\n",
    "from scipy.integrate import quad\n",
    "from scipy.special import gamma, gammainc, gammaln\n",
    "from scipy.interpolate import interp1d"
   ]
  },
  {
   "cell_type": "code",
   "execution_count": null,
   "metadata": {
    "collapsed": true
   },
   "outputs": [],
   "source": [
    "true_a,true_r_s = 0.65463, 15."
   ]
  },
  {
   "cell_type": "code",
   "execution_count": null,
   "metadata": {
    "collapsed": true
   },
   "outputs": [],
   "source": [
    "def ln_einasto(r, a, r_s):\n",
    "    lnC1 = np.log(a) - np.log(r_s) - gammaln(1/a)\n",
    "    return -(r/r_s)**a + lnC1\n",
    "\n",
    "def ln_gaussian(x, mu, std):\n",
    "    return -0.5*(x-mu)**2/std**2 - np.log(std) - 0.5*np.log(2*np.pi)"
   ]
  },
  {
   "cell_type": "code",
   "execution_count": null,
   "metadata": {
    "collapsed": false
   },
   "outputs": [],
   "source": [
    "r_grid = np.logspace(-1, 3., 256)\n",
    "cdf = np.array([quad(lambda *args: np.exp(ln_einasto(*args)), 0, rr, args=(true_a, true_r_s))[0] \n",
    "                for rr in r_grid])"
   ]
  },
  {
   "cell_type": "code",
   "execution_count": null,
   "metadata": {
    "collapsed": false
   },
   "outputs": [],
   "source": [
    "plt.semilogx(r_grid, ln_einasto(r_grid, true_a, true_r_s))"
   ]
  },
  {
   "cell_type": "code",
   "execution_count": null,
   "metadata": {
    "collapsed": true
   },
   "outputs": [],
   "source": [
    "cdf_func = interp1d(cdf, r_grid)"
   ]
  },
  {
   "cell_type": "code",
   "execution_count": null,
   "metadata": {
    "collapsed": false
   },
   "outputs": [],
   "source": [
    "# sample some true distances that follow the profile\n",
    "n_data = 128\n",
    "uu = np.random.uniform(cdf.min(), cdf.max(), size=n_data)\n",
    "true_r = cdf_func(uu)"
   ]
  },
  {
   "cell_type": "code",
   "execution_count": null,
   "metadata": {
    "collapsed": true
   },
   "outputs": [],
   "source": [
    "d_err = true_r * 0.1 # 10% distance error\n",
    "d = np.random.normal(true_r, d_err)"
   ]
  },
  {
   "cell_type": "code",
   "execution_count": null,
   "metadata": {
    "collapsed": false
   },
   "outputs": [],
   "source": [
    "bins = np.logspace(-1, 2.5, 18)\n",
    "plt.hist(true_r, bins=bins, alpha=0.4)\n",
    "plt.hist(d, bins=bins, alpha=0.4)\n",
    "plt.xscale('log')"
   ]
  },
  {
   "cell_type": "code",
   "execution_count": null,
   "metadata": {
    "collapsed": false
   },
   "outputs": [],
   "source": [
    "def ln_integrand(r, a, r_s, d, d_err):\n",
    "    return ln_einasto(r, a, r_s) + ln_gaussian(r, d, d_err)\n",
    "\n",
    "def integrand(r, a, r_s, d, d_err):\n",
    "    return np.exp(ln_integrand(r, a, r_s, d, d_err))"
   ]
  },
  {
   "cell_type": "code",
   "execution_count": null,
   "metadata": {
    "collapsed": false
   },
   "outputs": [],
   "source": [
    "# check normalizations\n",
    "# for i in range(8):\n",
    "#     _a = np.random.uniform(0.3, 0.9)\n",
    "#     _rs = np.random.uniform(5., 25.)\n",
    "#     _d = np.random.uniform(0, 250.)\n",
    "    \n",
    "#     val,_ = quad(integrand, 0, np.inf, args=(_a, _rs, _d, 0.2*_d), epsabs=1E-13)\n",
    "# #     val,_ = quad(lambda *args: np.exp(ln_einasto(*args)), 0, np.inf, \n",
    "# #                  args=(_a, _rs), epsabs=1E-13)\n",
    "# #     val,_ = quad(lambda *args: np.exp(ln_gaussian(*args)), 0, np.inf, \n",
    "# #                  args=(_d, _d*0.2), epsabs=1E-13)\n",
    "    \n",
    "#     print(val)"
   ]
  },
  {
   "cell_type": "code",
   "execution_count": null,
   "metadata": {
    "collapsed": true
   },
   "outputs": [],
   "source": [
    "def marg_ln_likelihood(p, ds, d_errs):\n",
    "    a, r_s = p\n",
    "    \n",
    "    ln_l = 0.\n",
    "    for d,d_err in zip(ds, d_errs):\n",
    "        val,err = quad(integrand, 0, np.inf, args=(a, r_s, d, d_err), epsabs=1E-13)\n",
    "        if err/val > 0.1:\n",
    "            print(d, d_err)\n",
    "            print(val, err)\n",
    "            raise ValueError(\"fail\")\n",
    "        ln_l += np.log(val)\n",
    "    \n",
    "    return ln_l"
   ]
  },
  {
   "cell_type": "code",
   "execution_count": null,
   "metadata": {
    "collapsed": false
   },
   "outputs": [],
   "source": [
    "quad(integrand, 0, np.inf, args=(val, true_r_s, 100.608757567, 32.517954474), epsabs=1E-13)"
   ]
  },
  {
   "cell_type": "code",
   "execution_count": null,
   "metadata": {
    "collapsed": false
   },
   "outputs": [],
   "source": [
    "vals = np.linspace(0.5, 0.9, 256)\n",
    "lls = np.zeros_like(vals)\n",
    "for i,val in enumerate(vals):\n",
    "    lls[i] = marg_ln_likelihood([val, true_r_s], d, d_err)"
   ]
  },
  {
   "cell_type": "code",
   "execution_count": null,
   "metadata": {
    "collapsed": false
   },
   "outputs": [],
   "source": [
    "fig,axes = plt.subplots(1, 2, figsize=(12,4))\n",
    "axes[0].plot(vals[lls<0], lls[lls<0])\n",
    "axes[1].plot(vals[lls<0], np.exp(lls[lls<0]-lls[lls<0].max()))"
   ]
  },
  {
   "cell_type": "code",
   "execution_count": null,
   "metadata": {
    "collapsed": true
   },
   "outputs": [],
   "source": []
  }
 ],
 "metadata": {
  "anaconda-cloud": {},
  "kernelspec": {
   "display_name": "Python [conda env:uncluster]",
   "language": "python",
   "name": "conda-env-uncluster-py"
  },
  "language_info": {
   "codemirror_mode": {
    "name": "ipython",
    "version": 3
   },
   "file_extension": ".py",
   "mimetype": "text/x-python",
   "name": "python",
   "nbconvert_exporter": "python",
   "pygments_lexer": "ipython3",
   "version": "3.5.2"
  }
 },
 "nbformat": 4,
 "nbformat_minor": 1
}