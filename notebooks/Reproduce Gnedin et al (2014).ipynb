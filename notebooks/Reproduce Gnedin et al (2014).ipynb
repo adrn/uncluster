{
 "cells": [
  {
   "cell_type": "markdown",
   "metadata": {},
   "source": [
    "I'll refer to Gnedin et al. (2014) as \"G14\" hereafter."
   ]
  },
  {
   "cell_type": "code",
   "execution_count": null,
   "metadata": {
    "collapsed": true
   },
   "outputs": [],
   "source": [
    "import os\n",
    "import math\n",
    "\n",
    "# Third-party\n",
    "from astropy.visualization import hist\n",
    "from astropy.constants import G\n",
    "import astropy.units as u\n",
    "import matplotlib.pyplot as pl\n",
    "import numpy as np\n",
    "pl.style.use('apw-notebook')\n",
    "%matplotlib inline\n",
    "from scipy.integrate import odeint, quad\n",
    "from scipy.stats import powerlaw, rv_continuous\n",
    "from scipy.optimize import root, minimize\n",
    "from scipy.special import gamma, gammainc\n",
    "import h5py\n",
    "\n",
    "# Custom\n",
    "import gala.coordinates as gc\n",
    "import gala.dynamics as gd\n",
    "import gala.integrate as gi\n",
    "import gala.potential as gp\n",
    "from gala.units import galactic\n",
    "\n",
    "import biff.scf as bscf"
   ]
  },
  {
   "cell_type": "code",
   "execution_count": null,
   "metadata": {
    "collapsed": true
   },
   "outputs": [],
   "source": [
    "seed = 42 # for random numbers"
   ]
  },
  {
   "cell_type": "code",
   "execution_count": null,
   "metadata": {
    "collapsed": true
   },
   "outputs": [],
   "source": [
    "m_tot = 5E10 # Msun\n",
    "R_e = 4. # kpc\n",
    "n_s = 2.2"
   ]
  },
  {
   "cell_type": "markdown",
   "metadata": {},
   "source": [
    "Oleg:\n",
    "\n",
    "apologies for the delay.  I was traveling again.  I used the following routines to calculate the spherical Sersic profile:\n",
    "\n",
    "```\n",
    "void EllModel( double z, double *Msz, double *nserz, double *rserz,\n",
    "           double *an, double *bn ) {\n",
    "  double ns;\n",
    "  *Msz = Ms*pow(1.+z, -0.67);\n",
    "  *nserz = ns = nser*pow(1.+z, -0.95);\n",
    "  *rserz = rser*pow(1.+z, -1.27);\n",
    "  *an = 2.*ns;\n",
    "  *bn = 2.*ns-1./3.+0.0098765/ns+0.0018/sqr(ns);\n",
    "  return;\n",
    "}\n",
    "\n",
    "EllModel(z, &Msz, &nserz, &rserz, &an, &bn);\n",
    "arg = bn*pow(r/rserz, 1./nserz);\n",
    "Mstar = Msz*gammp_(&an, &arg);\n",
    "```\n",
    "\n",
    "gammp_() is the incomplete gamma function.\n",
    "\n",
    "\n",
    "Everything is assumed to start at `z=3` and he says they fix the mass?"
   ]
  },
  {
   "cell_type": "code",
   "execution_count": null,
   "metadata": {
    "collapsed": false
   },
   "outputs": [],
   "source": [
    "z = 3.\n",
    "m_tot*(1+z)**-0.67, n_s*(1+z)**-0.95, R_e*(1+z)**-1.27"
   ]
  },
  {
   "cell_type": "markdown",
   "metadata": {},
   "source": [
    "### Solve for Sersic profile\n",
    "\n",
    "using Eq. 4 of http://mnras.oxfordjournals.org/content/362/1/197.full.pdf"
   ]
  },
  {
   "cell_type": "code",
   "execution_count": null,
   "metadata": {
    "collapsed": false
   },
   "outputs": [],
   "source": [
    "# class SersicDensity(object):\n",
    "#     \"\"\"\n",
    "#     Parameters\n",
    "#     ----------\n",
    "#     r : numeric, array_like\n",
    "#         Spherical radius.\n",
    "#     m : numeric\n",
    "#         Total mass.\n",
    "#     Re : numeric\n",
    "#         Effective radius\n",
    "#     n : numeric\n",
    "#         Power law index?\n",
    "#     \"\"\"\n",
    "    \n",
    "#     def _density(self, r, rho0, Re, ns, p, b_n):\n",
    "#         return rho0 * (r/Re)**-p * np.exp(-b_n*(r/Re)**(1/ns))\n",
    "    \n",
    "#     def __init__(self, m, Re, ns):\n",
    "        \n",
    "#         self.m = m\n",
    "#         self.Re = Re\n",
    "#         self.ns = ns\n",
    "        \n",
    "#         # first solve for b_n\n",
    "#         def bn_func(b_n, n):\n",
    "#             return 2 * gamma(2*n) * gammainc(n, b_n) - gamma(2*n)\n",
    "#         res = root(bn_func, x0=0.1, args=(ns,))\n",
    "#         self.b_n = res.x[0]\n",
    "\n",
    "#         # now get p\n",
    "# #         if ns < 0.6 or ns > 10: \n",
    "# #             raise ValueError(\"Invalid n\")\n",
    "# #         self.p = 1. - 0.6097/ns + 0.05563/ns**2\n",
    "#         self.p = 0.\n",
    "\n",
    "#         inv_rho0,_ = quad(lambda r,*args: 4*np.pi*r**2*self._density(r,*args), 0., np.inf, \n",
    "#                           args=(1., Re, ns, self.p, self.b_n))\n",
    "#         self.rho0 = m / inv_rho0\n",
    "    \n",
    "#     def __call__(self, r):\n",
    "#         return self._density(r, self.rho0, self.Re, self.ns, self.p, self.b_n)"
   ]
  },
  {
   "cell_type": "code",
   "execution_count": null,
   "metadata": {
    "collapsed": false
   },
   "outputs": [],
   "source": [
    "# # sersic_dens = SersicDensity(m=m_tot, Re=Re, ns=n_s)\n",
    "# # sersic_dens = SersicDensity(m=m_tot*(1+z)**-0.67, \n",
    "#                             Re=R_e*(1+z)**-1.27, \n",
    "#                             ns=n_s*(1+z)**-0.95)"
   ]
  },
  {
   "cell_type": "code",
   "execution_count": null,
   "metadata": {
    "collapsed": false
   },
   "outputs": [],
   "source": [
    "# tot_mass,_ = quad(lambda r: 4*np.pi*r**2*sersic_dens(r), 0., np.inf)\n",
    "# assert np.allclose(tot_mass, 5E10)"
   ]
  },
  {
   "cell_type": "markdown",
   "metadata": {},
   "source": [
    "Try to recreate Figure 1 in G14"
   ]
  },
  {
   "cell_type": "code",
   "execution_count": null,
   "metadata": {
    "collapsed": true
   },
   "outputs": [],
   "source": [
    "from scipy.optimize import curve_fit"
   ]
  },
  {
   "cell_type": "code",
   "execution_count": null,
   "metadata": {
    "collapsed": false
   },
   "outputs": [],
   "source": [
    "derp_r = np.array([1., 10., 100.])\n",
    "derp_dens = np.array([100., 1.8E-1, 3E-7])\n",
    "ln_derp_r = np.log(derp_r)\n",
    "ln_derp_dens = np.log(derp_dens)\n",
    "\n",
    "def model(r, rho0, n_s, R_e):\n",
    "    return rho0 * np.exp(-(r/R_e)**(1/n_s) + 1)\n",
    "\n",
    "def ln_model(r, rho0, n_s, R_e):\n",
    "    return np.log(model(r, rho0, n_s, R_e))\n",
    "\n",
    "# p_fit,_ = curve_fit(ln_model, ln_derp_r, ln_derp_dens)\n",
    "p_fit,_ = curve_fit(model, derp_r, derp_dens, p0=[100., 1.5, 1.], sigma=derp_dens/10.)"
   ]
  },
  {
   "cell_type": "code",
   "execution_count": null,
   "metadata": {
    "collapsed": false
   },
   "outputs": [],
   "source": [
    "pl.figure(figsize=(6,6))\n",
    "# pl.loglog(r, model(r, 100., 1.5, 1.))\n",
    "pl.loglog(r, model(r, *p_fit))\n",
    "pl.loglog(derp_r, derp_dens, ls='none', marker='o', markersize=10)\n",
    "\n",
    "pl.xlabel('$r$ [kpc]')\n",
    "\n",
    "pl.xlim(1E-1, 1E2)\n",
    "pl.ylim(1E-7, 1E2)"
   ]
  },
  {
   "cell_type": "code",
   "execution_count": null,
   "metadata": {
    "collapsed": false
   },
   "outputs": [],
   "source": [
    "inv_rho0,_ = quad(lambda r: 4*np.pi*r**2*model(r, 1., *p_fit[1:]), 0., np.inf)\n",
    "model_p = [5E10/inv_rho0] + list(p_fit[1:])\n",
    "\n",
    "tot_mass,_ = quad(lambda r: 4*np.pi*r**2*model(r, *model_p), 0., np.inf)\n",
    "assert np.allclose(tot_mass, 5E10)"
   ]
  },
  {
   "cell_type": "markdown",
   "metadata": {},
   "source": [
    "Use SCF / BFE to get potential and etc. for this density distribution"
   ]
  },
  {
   "cell_type": "code",
   "execution_count": null,
   "metadata": {
    "collapsed": false
   },
   "outputs": [],
   "source": [
    "(S,Serr),_ = bscf.compute_coeffs(lambda x,y,z: model(math.sqrt(x**2+y**2+z**2), *model_p), \n",
    "                                 nmax=16, lmax=0, M=m_tot, r_s=1.)"
   ]
  },
  {
   "cell_type": "code",
   "execution_count": null,
   "metadata": {
    "collapsed": false
   },
   "outputs": [],
   "source": [
    "pl.semilogy(np.abs(S[:,0,0]))"
   ]
  },
  {
   "cell_type": "code",
   "execution_count": null,
   "metadata": {
    "collapsed": false
   },
   "outputs": [],
   "source": [
    "r = np.logspace(-1, 2, 128) # kpc\n",
    "xyz = np.zeros((r.size, 3))\n",
    "xyz[:,0] = r\n",
    "scf_dens = bscf.density(xyz, Snlm=S, Tnlm=np.zeros_like(S), M=m_tot, r_s=1.)\n",
    "\n",
    "pl.loglog(r, model(r, *model_p))\n",
    "pl.loglog(r, scf_dens)\n",
    "pl.xlabel('$r$ [kpc]')\n",
    "pl.ylabel('Density')"
   ]
  },
  {
   "cell_type": "markdown",
   "metadata": {},
   "source": [
    "The potential used in G14 is:\n",
    "- DM: spherical NFW halo with $M_h = 10^{12}~{\\rm M}_\\odot$, $r_s = 20~{\\rm kpc}$\n",
    "- Stars: a \"spherical S\u00e9rsic profile\" with $M = 5\\times 10^{10}~{\\rm M}_\\odot$, $R_e = 4~{\\rm kpc}$ and $n_s = 2.2$"
   ]
  },
  {
   "cell_type": "code",
   "execution_count": null,
   "metadata": {
    "collapsed": false
   },
   "outputs": [],
   "source": [
    "pot = gp.CCompositePotential()\n",
    "pot['stars'] = bscf.SCFPotential(m=sersic_dens.m, r_s=sersic_dens.Re, \n",
    "                                 Snlm=S, Tnlm=np.zeros_like(S), units=galactic)\n",
    "\n",
    "v_c = np.sqrt(G * 1E12*u.Msun / (20*u.kpc) * (np.log(2.)-0.5))\n",
    "v_c = galactic.decompose(v_c)\n",
    "print(v_c)\n",
    "pot['halo'] = gp.SphericalNFWPotential(v_c=v_c, r_s=20*u.kpc, units=galactic) # M(<250kpc) = 10^12 Msun\n",
    "\n",
    "pot.mass_enclosed([250.,0,0]*u.kpc) # mass in ~virial radius"
   ]
  },
  {
   "cell_type": "code",
   "execution_count": null,
   "metadata": {
    "collapsed": false
   },
   "outputs": [],
   "source": [
    "r = np.logspace(-1,2,256)\n",
    "q = np.zeros((3,r.size))\n",
    "q[0] = r\n",
    "\n",
    "fig,axes = pl.subplots(1,2,figsize=(12,5))\n",
    "\n",
    "axes[0].loglog(r, pot.density(q), marker=None, label='total', lw=2.)\n",
    "axes[0].loglog(r, pot['stars'].density(q), marker=None, label='stars')\n",
    "axes[0].loglog(r, pot['halo'].density(q), marker=None, label='dm')\n",
    "axes[0].legend()\n",
    "\n",
    "axes[0].set_xlabel('$r$ [kpc]')\n",
    "axes[0].set_ylabel(r'Density [${\\rm M}_\\odot\\,{\\rm kpc}^{-3}$]')\n",
    "\n",
    "axes[1].loglog(r, pot.mass_enclosed(q), marker=None, label='total', lw=2.)\n",
    "axes[1].loglog(r, pot['stars'].mass_enclosed(q), marker=None, label='stars')\n",
    "axes[1].loglog(r, pot['halo'].mass_enclosed(q), marker=None, label='dm')\n",
    "axes[1].set_xlabel('$r$ [kpc]')\n",
    "axes[1].set_ylabel(r'Mass enclosed [${\\rm M}_\\odot$]')\n",
    "\n",
    "fig.tight_layout()"
   ]
  },
  {
   "cell_type": "markdown",
   "metadata": {},
   "source": [
    "Circular velocity curve for the total potential"
   ]
  },
  {
   "cell_type": "code",
   "execution_count": null,
   "metadata": {
    "collapsed": true
   },
   "outputs": [],
   "source": [
    "def circ_vel(r, pot):\n",
    "    q = np.zeros((3,r.size))*r.unit\n",
    "    q[0] = r\n",
    "    dPhi_dr = pot.gradient(q)[0]\n",
    "    return np.sqrt(r*np.abs(dPhi_dr)).to(u.km/u.s)"
   ]
  },
  {
   "cell_type": "code",
   "execution_count": null,
   "metadata": {
    "collapsed": false
   },
   "outputs": [],
   "source": [
    "pl.plot(r, circ_vel(r*u.kpc, pot), marker=None)\n",
    "pl.xlabel('$r$ [kpc]')\n",
    "pl.ylabel(r'$v_{\\rm c}(r)$ [km ${\\rm s}^{-1}$]')"
   ]
  },
  {
   "cell_type": "markdown",
   "metadata": {},
   "source": [
    "---"
   ]
  },
  {
   "cell_type": "code",
   "execution_count": null,
   "metadata": {
    "collapsed": true
   },
   "outputs": [],
   "source": [
    "N_gcs = 8000\n",
    "t_evolve = 11.5*u.Gyr"
   ]
  },
  {
   "cell_type": "markdown",
   "metadata": {},
   "source": [
    "## Sample masses from power law"
   ]
  },
  {
   "cell_type": "code",
   "execution_count": null,
   "metadata": {
    "collapsed": true
   },
   "outputs": [],
   "source": [
    "def sample_masses(M_min, M_max, size=1):\n",
    "    M_min = M_min.to(u.Msun).value\n",
    "    M_max = M_max.to(u.Msun).value\n",
    "    \n",
    "    class MassFunction(rv_continuous):\n",
    "        def _pdf(self, x):\n",
    "            return x**-2 / (1/self.a - 1/self.b)\n",
    "        \n",
    "    return MassFunction(a=M_min, b=M_max).rvs(size=size) * u.Msun"
   ]
  },
  {
   "cell_type": "markdown",
   "metadata": {},
   "source": [
    "## Sample radii"
   ]
  },
  {
   "cell_type": "code",
   "execution_count": null,
   "metadata": {
    "collapsed": true
   },
   "outputs": [],
   "source": [
    "def sample_radii(pot, r_min=0.*u.kpc, r_max=np.inf*u.kpc, size=1):\n",
    "    r_min = r_min.to(u.kpc).value\n",
    "    r_max = r_max.to(u.kpc).value\n",
    "    \n",
    "    # Menc = lambda rr: quad(lambda r: 4*np.pi*r**2*pot._density(np.array([r,0,0])), 0, rr)[0]\n",
    "    Mtot = pot.parameters['m'].value\n",
    "    Menc = lambda rr: pot.mass_enclosed([rr,0.,0.]).value \n",
    "    \n",
    "    def root_func(r, m):\n",
    "        return (m - Menc(float(r))/Mtot)[0]\n",
    "    \n",
    "    if r_min == 0.:\n",
    "        m_min = 0.\n",
    "    else:\n",
    "        m_min = Menc(r_min)/Mtot\n",
    "        \n",
    "    if r_max == np.inf:\n",
    "        m_max = 1.\n",
    "    else:\n",
    "        m_max = Menc(r_max)/Mtot\n",
    "    \n",
    "    m = np.random.uniform(m_min, m_max, size=size)\n",
    "    return np.array([root(root_func, 10., args=(m[i],)).x[0] for i in range(size)]) * u.kpc"
   ]
  },
  {
   "cell_type": "code",
   "execution_count": null,
   "metadata": {
    "collapsed": false
   },
   "outputs": [],
   "source": [
    "np.random.seed(seed)\n",
    "gc_masses = sample_masses(M_min=1E4*u.Msun, M_max=1E7*u.Msun, size=N_gcs)\n",
    "gc_r = sample_radii(pot['stars'], 0.1*u.kpc, 100*u.kpc, size=N_gcs)"
   ]
  },
  {
   "cell_type": "markdown",
   "metadata": {},
   "source": [
    "Compare with Figure 2 in G14"
   ]
  },
  {
   "cell_type": "code",
   "execution_count": null,
   "metadata": {
    "collapsed": false
   },
   "outputs": [],
   "source": [
    "fig,axes = pl.subplots(1,2,figsize=(12,6))\n",
    "axes[0].hist(gc_masses, bins=np.logspace(4,7.1,9));\n",
    "axes[0].set_xscale('log')\n",
    "axes[0].set_yscale('log')\n",
    "axes[0].set_xlim(1E3, 3E7)\n",
    "axes[0].set_ylim(5E-1, 1E4)\n",
    "axes[0].set_xlabel(r\"Mass [${\\rm M}_\\odot$]\")\n",
    "axes[0].set_ylabel(r\"$N$\")\n",
    "\n",
    "bins = np.logspace(-1.,2.,16)\n",
    "H,_ = np.histogram(gc_r, bins=bins)\n",
    "\n",
    "V = 4/3*np.pi*(bins[1:]**3 - bins[:-1]**3)\n",
    "bin_cen = (bins[1:]+bins[:-1])/2.\n",
    "axes[1].plot(bin_cen, H/V, ls='--', marker=None)\n",
    "\n",
    "axes[1].set_xscale('log')\n",
    "axes[1].set_yscale('log')\n",
    "axes[1].set_xlim(1E-1, 1E2)\n",
    "axes[1].set_ylim(1E-7, 1E2)\n",
    "axes[1].set_xlabel(r\"$r$ [kpc]\")\n",
    "axes[1].set_ylabel('GC density [kpc$^{-3}$]')\n",
    "\n",
    "fig.tight_layout()"
   ]
  },
  {
   "cell_type": "markdown",
   "metadata": {},
   "source": [
    "## Compute disruption times"
   ]
  },
  {
   "cell_type": "code",
   "execution_count": null,
   "metadata": {
    "collapsed": true
   },
   "outputs": [],
   "source": [
    "# def P(r, pot):\n",
    "#     return 41.4 * (r.to(u.kpc).value) / (circ_vel(r, pot).to(u.km/u.s).value)\n",
    "    \n",
    "# def t_tid(r, M, pot, \u03b1=2/3.):\n",
    "#     \"\"\" Tidal disruption timescale \"\"\"\n",
    "#     return 10*u.Gyr * (M / (2E5*u.Msun))**\u03b1 * P(r, pot)\n",
    "\n",
    "# def t_iso(M):\n",
    "#     \"\"\" Isolation disruption timescale (2-body evaporation)\"\"\"\n",
    "#     return 17*u.Gyr * (M / (2E5*u.Msun))\n",
    "\n",
    "# def t_df(r, M, pot, f_e=0.5):\n",
    "#     return 0.45*u.Gyr * (r.to(u.kpc).value)**2 * (circ_vel(r, pot).to(u.km/u.s).value) * (M/(1E5*u.Msun))**-1 * f_e\n",
    "\n",
    "# def F(y, t):\n",
    "#     M,r2 = y\n",
    "    \n",
    "#     r = np.sqrt(r2)\n",
    "#     min_t = np.min([t_tid(r*u.kpc, M*u.Msun, pot).to(u.Gyr).value, \n",
    "#                     t_iso(M*u.Msun).to(u.Gyr).value], axis=0)\n",
    "    \n",
    "#     M_dot = -M / min_t\n",
    "#     r2_dot = -r2 / t_df(r*u.kpc, M*u.Msun, pot).to(u.Gyr).value\n",
    "    \n",
    "#     return [float(M_dot), float(r2_dot)]"
   ]
  },
  {
   "cell_type": "code",
   "execution_count": null,
   "metadata": {
    "collapsed": true
   },
   "outputs": [],
   "source": [
    "_fac = (1*u.kpc/u.Myr).to(u.km/u.s).value\n",
    "def _circ_vel_kms(r, pot):\n",
    "    r = float(r)\n",
    "    dPhi_dr = pot._gradient(np.array([r,0.,0.]))[0]\n",
    "    return np.sqrt(np.abs(r*dPhi_dr)) * _fac\n",
    "\n",
    "def P(r, pot):\n",
    "    return 41.4 * r / _circ_vel_kms(r, pot)\n",
    "    \n",
    "def t_tid(r, M, pot, \u03b1=2/3.):\n",
    "    \"\"\" Tidal disruption timescale \"\"\"\n",
    "    return 10. * (M / 2E5)**\u03b1 * P(r, pot)\n",
    "\n",
    "def t_iso(M):\n",
    "    \"\"\" Isolation disruption timescale (2-body evaporation)\"\"\"\n",
    "    return 17. * (M / 2E5)\n",
    "\n",
    "def t_df(r, M, pot, f_e=0.5):\n",
    "    return 0.45 * r*r * _circ_vel_kms(r,pot) * (M/1E5)**-1 * f_e\n",
    "\n",
    "def F(y, t):\n",
    "    M,r2 = y\n",
    "    \n",
    "    r = np.sqrt(r2)\n",
    "    min_t = np.min([t_tid(r, M, pot), \n",
    "                    t_iso(M)], axis=0)\n",
    "    \n",
    "    M_dot = -M/min_t\n",
    "    r2_dot = -r2/t_df(r, M, pot)\n",
    "    \n",
    "    return [float(M_dot), float(r2_dot)]"
   ]
  },
  {
   "cell_type": "code",
   "execution_count": null,
   "metadata": {
    "collapsed": false
   },
   "outputs": [],
   "source": [
    "fname = \"../output/gc-evolve.h5\"\n",
    "if not os.path.exists(fname) or True:\n",
    "    t_grid = np.linspace(0., t_evolve.value, 4096)\n",
    "\n",
    "    with h5py.File(fname, \"w\") as f:\n",
    "        f.create_dataset('time', data=t_grid)\n",
    "        f.create_group('mass')\n",
    "        f.create_group('radius')\n",
    "\n",
    "        f['time'].attrs['unit'] = 'Gyr'\n",
    "        f['mass'].attrs['unit'] = 'solMass'\n",
    "        f['radius'].attrs['unit'] = 'kpc'\n",
    "\n",
    "        for i,_r,_M in zip(range(N_gcs), gc_r.to(u.kpc).value, gc_masses.to(u.Msun).value):\n",
    "            if (i % 1000) == 0:\n",
    "                print(i)\n",
    "\n",
    "            M_r2 = odeint(F, [_M, _r**2], t=t_grid)\n",
    "            f['mass'].create_dataset(str(i), data=M_r2[:,0])\n",
    "            f['radius'].create_dataset(str(i), data=np.sqrt(M_r2[:,1]))"
   ]
  },
  {
   "cell_type": "code",
   "execution_count": null,
   "metadata": {
    "collapsed": false
   },
   "outputs": [],
   "source": [
    "t_disrupt = np.zeros(N_gcs)\n",
    "final_r = np.zeros(N_gcs)\n",
    "final_m = np.zeros(N_gcs)\n",
    "did_disrupt = np.zeros(N_gcs).astype(bool)\n",
    "with h5py.File(\"../output/gc-evolve.h5\", \"r\") as f:\n",
    "    for i in range(N_gcs):\n",
    "        _mass = f['mass/{}'.format(i)][:]\n",
    "        _radius = f['radius/{}'.format(i)][:]\n",
    "        \n",
    "        if np.any(np.isnan(_mass)) or np.any(_mass < 0.):\n",
    "            t_disrupt[i] = f['time'][np.isfinite(_mass) & (_mass >= 0)][-1]\n",
    "            final_r[i] = _radius[np.isfinite(_mass) & (_mass >= 0)][-1]\n",
    "            final_m[i] = 0.\n",
    "            did_disrupt[i] = True\n",
    "            \n",
    "        else:\n",
    "            t_disrupt[i] = np.nan\n",
    "            final_r[i] = _radius[-1]\n",
    "            final_m[i] = _mass[-1]\n",
    "            did_disrupt[i] = False\n",
    "            \n",
    "    t_disrupt = t_disrupt*u.Unit(f['time'].attrs['unit'])\n",
    "    final_r = final_r*u.Unit(f['radius'].attrs['unit'])"
   ]
  },
  {
   "cell_type": "code",
   "execution_count": null,
   "metadata": {
    "collapsed": false
   },
   "outputs": [],
   "source": [
    "print(\"{} did not disrupt\".format(N_gcs-did_disrupt.sum()))\n",
    "print(\"{:.0%}\".format(did_disrupt.sum() / N_gcs))"
   ]
  },
  {
   "cell_type": "code",
   "execution_count": null,
   "metadata": {
    "collapsed": false
   },
   "outputs": [],
   "source": [
    "pl.figure(figsize=(6,5))\n",
    "hist((t_disrupt - t_evolve)[did_disrupt], bins='scott')\n",
    "pl.yscale('log')\n",
    "pl.xlabel('Disruption time [Gyr]')\n",
    "pl.ylabel('$N$')\n",
    "pl.tight_layout()\n",
    "# pl.savefig(\"/Users/adrian/projects/how-many-streams/plots/t_disrupt.pdf\")"
   ]
  },
  {
   "cell_type": "markdown",
   "metadata": {},
   "source": [
    "TODO: now i have disruption times, masses, radii, and mass-loss rates I can run simulations with some eccentricity distribution"
   ]
  },
  {
   "cell_type": "markdown",
   "metadata": {},
   "source": [
    "---"
   ]
  },
  {
   "cell_type": "code",
   "execution_count": null,
   "metadata": {
    "collapsed": false
   },
   "outputs": [],
   "source": [
    "fig,axes = pl.subplots(1,2,figsize=(12,6))\n",
    "\n",
    "axes[0].scatter(gc_masses, final_m, c=np.log10(gc_r.value), cmap='magma_r', alpha=0.75, s=4)\n",
    "axes[0].set_xscale('log')\n",
    "axes[0].set_yscale('log')\n",
    "axes[0].set_xlim(1E2,1E7)\n",
    "axes[0].set_ylim(1E2,1E7)\n",
    "axes[0].set_xlabel('$M_i$ [kpc]')\n",
    "axes[0].set_ylabel('$M_f$ [kpc]')\n",
    "\n",
    "axes[1].scatter(gc_r, final_r, c=np.log10(gc_masses.value), cmap='magma_r', alpha=0.75, s=4)\n",
    "axes[1].set_xlim(0,10)\n",
    "axes[1].set_ylim(0,10)\n",
    "axes[1].set_xlabel('$r_i$ [kpc]')\n",
    "axes[1].set_ylabel('$r_f$ [kpc]')"
   ]
  },
  {
   "cell_type": "code",
   "execution_count": null,
   "metadata": {
    "collapsed": false
   },
   "outputs": [],
   "source": [
    "from astropy.io import fits\n",
    "import astropy.coordinates as coord"
   ]
  },
  {
   "cell_type": "code",
   "execution_count": null,
   "metadata": {
    "collapsed": false
   },
   "outputs": [],
   "source": [
    "harris_tbl = fits.getdata(\"../data/harris-gc-catalog.fits\", 1)"
   ]
  },
  {
   "cell_type": "code",
   "execution_count": null,
   "metadata": {
    "collapsed": false
   },
   "outputs": [],
   "source": [
    "harris_c = coord.SkyCoord(ra=harris_tbl['RA']*u.degree, dec=harris_tbl['DEC']*u.degree,\n",
    "                          distance=harris_tbl['HELIO_DISTANCE']*u.kpc)\n",
    "harris_gc_dist = harris_c.transform_to(coord.Galactocentric).represent_as(coord.PhysicsSphericalRepresentation).r"
   ]
  },
  {
   "cell_type": "code",
   "execution_count": null,
   "metadata": {
    "collapsed": false
   },
   "outputs": [],
   "source": [
    "fig,axes = pl.subplots(1,2,figsize=(12,6))\n",
    "\n",
    "axes[0].hist(gc_masses, bins=np.logspace(4,7.1,9));\n",
    "axes[0].hist(final_m[~did_disrupt], bins=np.logspace(3,7.1,12));\n",
    "\n",
    "axes[0].set_xscale('log')\n",
    "axes[0].set_yscale('log')\n",
    "axes[0].set_xlim(1E3, 3E7)\n",
    "axes[0].set_ylim(5E-1, 1E4)\n",
    "axes[0].set_xlabel(r\"Mass [${\\rm M}_\\odot$]\")\n",
    "axes[0].set_ylabel(r\"$N$\")\n",
    "\n",
    "bins = np.logspace(-1.,2.,16)\n",
    "H,_ = np.histogram(gc_r, bins=bins)\n",
    "data_H,_ = np.histogram(harris_gc_dist, bins=bins)\n",
    "\n",
    "V = 4/3*np.pi*(bins[1:]**3 - bins[:-1]**3)\n",
    "bin_cen = (bins[1:]+bins[:-1])/2.\n",
    "axes[1].plot(bin_cen, H/V, ls='--', marker=None)\n",
    "axes[1].errorbar(bin_cen, data_H/V, np.sqrt(data_H)/V, \n",
    "                 color='k', marker='o', ecolor='#666666', linestyle='none')\n",
    "\n",
    "H_f,_ = np.histogram(final_r[~did_disrupt], bins=bins)\n",
    "axes[1].plot(bin_cen, H_f/V, ls='--', marker=None)\n",
    "\n",
    "axes[1].set_xscale('log')\n",
    "axes[1].set_yscale('log')\n",
    "axes[1].set_xlim(1E-1, 1E2)\n",
    "axes[1].set_ylim(1E-7, 1E2)\n",
    "axes[1].set_xlabel(r\"$r$ [kpc]\")\n",
    "axes[1].set_ylabel('GC density [kpc$^{-3}$]')\n",
    "\n",
    "fig.tight_layout()\n",
    "\n",
    "fig.savefig(\"/Users/adrian/projects/how-many-streams/plots/GC-mass-radius.pdf\")"
   ]
  },
  {
   "cell_type": "markdown",
   "metadata": {},
   "source": [
    "---"
   ]
  },
  {
   "cell_type": "markdown",
   "metadata": {},
   "source": [
    "# Ignore below here\n",
    "\n",
    "---\n",
    "\n",
    "### For a given mass-loss history and radius, estimate the length of the stream\n",
    "\n",
    "$$\n",
    "\\begin{align}\n",
    "l &= 2\\Delta \\theta\\\\\n",
    "\\Delta \\theta_i &= \\Delta\\Omega_i \\, t\\\\\n",
    "\\Delta\\Omega_i &\\approx \\Omega_i \\, \\frac{\\delta E}{E}\\\\\n",
    "\\delta E &= r_{\\rm tid} \\, \\frac{d\\Phi}{dr}\\\\\n",
    "r_{\\rm tid} &\\approx \\left(\\frac{M_{\\rm GC}}{3M(<r)}\\right)^{1/3} \\, r\n",
    "\\end{align}\n",
    "$$\n",
    "$\\epsilon$ is the energy scale, $r_{\\rm tid}$ is the tidal radius, $M(<r)$ is the enclosed mass of the Galaxy at radius $r$."
   ]
  },
  {
   "cell_type": "code",
   "execution_count": null,
   "metadata": {
    "collapsed": true
   },
   "outputs": [],
   "source": [
    "def delta_Omega(r, M, pot):\n",
    "    vc = circ_vel(r, pot)\n",
    "    Omega = vc / r\n",
    "    \n",
    "    q = np.zeros(3)*r.unit\n",
    "    q[0] = r\n",
    "    \n",
    "    # p = np.zeros(3)*vc.unit\n",
    "    # p[0] = vc\n",
    "    \n",
    "    # r_tid = (M / (3*pot.mass_enclosed(q)))**(1/3.) * r\n",
    "    # dE = r_tid * pot.gradient(q)[0]\n",
    "    # E = pot.total_energy(q, p)\n",
    "    dE_E = (M / (3*pot.mass_enclosed(q)))**(1/3.)\n",
    "    \n",
    "    return (dE_E*Omega)[0]\n",
    "\n",
    "def get_r_tid(r, M, pot):\n",
    "    r = np.atleast_1d(r)\n",
    "    M = np.atleast_1d(M)\n",
    "    \n",
    "    q = np.zeros((3,r.size))*r.unit\n",
    "    q[0] = r\n",
    "    return (M / (3*pot.mass_enclosed(q)))**(1/3.) * r"
   ]
  },
  {
   "cell_type": "code",
   "execution_count": null,
   "metadata": {
    "collapsed": false
   },
   "outputs": [],
   "source": [
    "l = (delta_Omega(gc_r[0], gc_mass[0], pot) * (t_evolve-t_disrupt[0]))\\\n",
    "    .to(u.degree, equivalencies=u.dimensionless_angles())\n",
    "l"
   ]
  },
  {
   "cell_type": "markdown",
   "metadata": {},
   "source": [
    "TODO: As a really crude initial estimate (assuming spherical bg), if I know how much mass is lost at each time-step I can then allow it to linearly evolve in angle with a Gaussian cylinder radius set by the tidal radius. From this I can get the surface density. For example, the mass-loss info would give me a \"strand\" of stars, then I would convolve with a Gaussian to get a \"stream\""
   ]
  },
  {
   "cell_type": "code",
   "execution_count": null,
   "metadata": {
    "collapsed": true
   },
   "outputs": [],
   "source": [
    "def kernel(r_tid, w):\n",
    "    K = np.eye(3)\n",
    "    K[0,0] = w.to(u.kpc).value\n",
    "    K[1,1] = w.to(u.kpc).value\n",
    "    K[2,2] = r_tid.to(u.kpc).value\n",
    "    return K\n",
    "\n",
    "def get_grid(r_tid, z_theta, dd=None):\n",
    "    r_tid = r_tid.to(u.kpc).value\n",
    "    z_theta = z_theta.to(u.kpc).value\n",
    "    \n",
    "    max_r_tid = np.nanmax(r_tid)\n",
    "    max_z_theta = np.nanmax(z_theta)\n",
    "    \n",
    "    if dd is None:\n",
    "        dd = max_r_tid.max()/4.\n",
    "    \n",
    "    print(np.arange(-3*max_r_tid, 3*max_r_tid+dd, dd).size, \n",
    "          np.arange(0., max_z_theta+max_r_tid + dd, dd).size)\n",
    "    return\n",
    "    dens_grid = np.meshgrid((np.arange(-5*r_tid, 5*r_tid+dd, dd),\n",
    "                             np.arange(-5*r_tid, 5*r_tid+dd, dd),\n",
    "                             np.arange(0., z_theta.max()+r_tid + dd, dd)))\n",
    "    return dens_grid"
   ]
  },
  {
   "cell_type": "code",
   "execution_count": null,
   "metadata": {
    "collapsed": false
   },
   "outputs": [],
   "source": [
    "with h5py.File(\"../output/gc-evolve.h5\", \"r\") as f:\n",
    "    time = f['time'][:] * u.Unit(f['time'].attrs['unit'])\n",
    "    t_evolve = time.max()\n",
    "#     t_evolve = 2.5*u.Gyr\n",
    "\n",
    "    for i in range(N_gcs): #[2455:2456]:\n",
    "        M_i = f['mass/{}'.format(i)][:] * u.Unit(f['mass'].attrs['unit'])\n",
    "        r_i = f['radius/{}'.format(i)][:] * u.Unit(f['radius'].attrs['unit'])\n",
    "        \n",
    "        dM = M_i[1:] - M_i[:-1]\n",
    "        mean_M = (M_i[:-1] + M_i[1:])/2.\n",
    "        mean_r = (r_i[:-1] + r_i[1:])/2.\n",
    "        \n",
    "        theta = np.nan*np.zeros(len(dM))*u.degree\n",
    "        for j in range(len(dM)):\n",
    "            dt = t_evolve-time[j]\n",
    "            if dt < 0.:\n",
    "                break\n",
    "            \n",
    "            theta[j] = (delta_Omega(mean_r[j], mean_M[j], pot) * dt)\\\n",
    "                       .to(u.degree, equivalencies=u.dimensionless_angles())\n",
    "            \n",
    "            if M_i[j] < 0.:\n",
    "                break\n",
    "            \n",
    "        # turn angular coordinate into cartesian\n",
    "        z_theta = (mean_r * theta).to(u.kpc, equivalencies=u.dimensionless_angles())\n",
    "\n",
    "#         r_tid = get_r_tid(mean_r, mean_M, pot)\n",
    "#         get_grid(r_tid, z_theta)\n",
    "        # need to estimate mass density from this -- TODO: need width as a function of theta!\n",
    "        \n",
    "        #idx = np.isfinite(Omega)\n",
    "        #H,edges = np.histogram(Omega[idx], bins=np.linspace(0.,180,180), weights=-dM[idx])\n",
    "\n",
    "        break"
   ]
  },
  {
   "cell_type": "code",
   "execution_count": null,
   "metadata": {
    "collapsed": true
   },
   "outputs": [],
   "source": [
    "idx = np.isfinite(theta)\n",
    "H,edges = np.histogram(theta[idx], bins=np.linspace(0.,420,64), weights=-dM[idx])\n",
    "# H,edges = np.histogram(z_theta[idx], bins=np.linspace(0.,15,64), weights=-dM[idx])\n",
    "\n",
    "pl.plot(edges[1:], H)"
   ]
  },
  {
   "cell_type": "code",
   "execution_count": null,
   "metadata": {
    "collapsed": true
   },
   "outputs": [],
   "source": [
    "print(\"hi\")"
   ]
  },
  {
   "cell_type": "code",
   "execution_count": null,
   "metadata": {
    "collapsed": true
   },
   "outputs": [],
   "source": []
  }
 ],
 "metadata": {
  "kernelspec": {
   "display_name": "Environment (biff)",
   "language": "",
   "name": "biff"
  },
  "language_info": {
   "codemirror_mode": {
    "name": "ipython",
    "version": 3
   },
   "file_extension": ".py",
   "mimetype": "text/x-python",
   "name": "python",
   "nbconvert_exporter": "python",
   "pygments_lexer": "ipython3",
   "version": "3.5.2"
  }
 },
 "nbformat": 4,
 "nbformat_minor": 0
}