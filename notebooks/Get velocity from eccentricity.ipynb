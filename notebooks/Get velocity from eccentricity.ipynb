{
 "cells": [
  {
   "cell_type": "code",
   "execution_count": null,
   "metadata": {
    "collapsed": false
   },
   "outputs": [],
   "source": [
    "from __future__ import division, print_function\n",
    "\n",
    "import os\n",
    "import math\n",
    "\n",
    "# Third-party\n",
    "import astropy.units as u\n",
    "import h5py\n",
    "import matplotlib.pyplot as plt\n",
    "import numpy as np\n",
    "plt.style.use('apw-notebook')\n",
    "%matplotlib inline\n",
    "from astropy.table import QTable\n",
    "\n",
    "# Custom\n",
    "import gala.coordinates as gc\n",
    "import gala.dynamics as gd\n",
    "import gala.integrate as gi\n",
    "import gala.potential as gp\n",
    "from gala.units import galactic\n",
    "from scipy.optimize import minimize\n",
    "\n",
    "from uncluster.conf import t_evolve\n",
    "from uncluster.potential import potential as pot\n",
    "from uncluster.cluster_massloss import solve_mass_radius"
   ]
  },
  {
   "cell_type": "code",
   "execution_count": null,
   "metadata": {
    "collapsed": true
   },
   "outputs": [],
   "source": [
    "gc_evo_filename = os.path.abspath(\"../output/2-gc-evolution.hdf5\")"
   ]
  },
  {
   "cell_type": "code",
   "execution_count": null,
   "metadata": {
    "collapsed": false
   },
   "outputs": [],
   "source": [
    "with h5py.File(gc_evo_filename) as f:\n",
    "    for i in range(f.attrs['n']):\n",
    "        g = f['clusters/{}'.format(i)]\n",
    "\n",
    "        t = f['time'][:g.attrs['disrupt_idx']+1]\n",
    "        m = g['mass'][:]\n",
    "        r = np.mean(g['radius'][:])\n",
    "        ecc = g.attrs['ecc']\n",
    "        break"
   ]
  },
  {
   "cell_type": "code",
   "execution_count": null,
   "metadata": {
    "collapsed": false
   },
   "outputs": [],
   "source": [
    "# choose a random 3D position at the mean orbital radius\n",
    "phi = np.random.uniform(0, 2*np.pi)\n",
    "theta = np.arccos(2*np.random.uniform() - 1)\n",
    "q = np.vstack((r*np.cos(phi)*np.sin(theta),r*np.sin(phi)*np.sin(theta),r*np.cos(theta)))[:,0] * u.kpc"
   ]
  },
  {
   "cell_type": "code",
   "execution_count": null,
   "metadata": {
    "collapsed": false
   },
   "outputs": [],
   "source": [
    "dt = (2*np.pi*r*u.kpc / (200*u.km/u.s)).to(u.Myr) / 512"
   ]
  },
  {
   "cell_type": "code",
   "execution_count": null,
   "metadata": {
    "collapsed": false
   },
   "outputs": [],
   "source": [
    "def func(p):\n",
    "    a,b = p\n",
    "    v = gc.spherical_to_cartesian(q, [a, 0, b]*u.km/u.s)\n",
    "    w0 = gd.CartesianPhaseSpacePosition(pos=q, vel=v)\n",
    "    w = pot.integrate_orbit(w0, dt=dt, n_steps=1024)\n",
    "    return (w.eccentricity() - ecc)**2"
   ]
  },
  {
   "cell_type": "code",
   "execution_count": null,
   "metadata": {
    "collapsed": false
   },
   "outputs": [],
   "source": [
    "res = minimize(func, [0,150], method='powell')\n",
    "res"
   ]
  },
  {
   "cell_type": "code",
   "execution_count": null,
   "metadata": {
    "collapsed": false
   },
   "outputs": [],
   "source": [
    "v = gc.spherical_to_cartesian(q, [res.x[0], 0, res.x[1]]*u.km/u.s)\n",
    "w0 = gd.CartesianPhaseSpacePosition(pos=q, vel=v)\n",
    "w = pot.integrate_orbit(w0, dt=dt, n_steps=8192)\n",
    "w.eccentricity()"
   ]
  },
  {
   "cell_type": "code",
   "execution_count": null,
   "metadata": {
    "collapsed": false
   },
   "outputs": [],
   "source": [
    "np.mean(np.sqrt(np.sum(w.pos**2, axis=0)))"
   ]
  },
  {
   "cell_type": "code",
   "execution_count": null,
   "metadata": {
    "collapsed": true
   },
   "outputs": [],
   "source": []
  }
 ],
 "metadata": {
  "kernelspec": {
   "display_name": "Environment (uncluster)",
   "language": "",
   "name": "uncluster"
  },
  "language_info": {
   "codemirror_mode": {
    "name": "ipython",
    "version": 3
   },
   "file_extension": ".py",
   "mimetype": "text/x-python",
   "name": "python",
   "nbconvert_exporter": "python",
   "pygments_lexer": "ipython3",
   "version": "3.5.2"
  }
 },
 "nbformat": 4,
 "nbformat_minor": 0
}